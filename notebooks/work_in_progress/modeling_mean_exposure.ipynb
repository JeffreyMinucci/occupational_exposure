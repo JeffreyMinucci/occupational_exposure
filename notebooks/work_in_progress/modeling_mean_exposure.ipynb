{
 "cells": [
  {
   "cell_type": "markdown",
   "metadata": {},
   "source": [
    "# Predicting mean concentrations in the workplace using chemical properties\n",
    "#### By: Jeff Minucci"
   ]
  },
  {
   "cell_type": "markdown",
   "metadata": {},
   "source": [
    "### Load required packages"
   ]
  },
  {
   "cell_type": "code",
   "execution_count": 2,
   "metadata": {},
   "outputs": [],
   "source": [
    "import numpy as np\n",
    "import pandas as pd\n",
    "import matplotlib.pyplot as plt\n",
    "import os\n",
    "from sklearn.model_selection import train_test_split\n",
    "from scipy.stats import boxcox\n",
    "%matplotlib inline"
   ]
  },
  {
   "cell_type": "markdown",
   "metadata": {},
   "source": [
    "### Load the dataset of osha mean concentrations detected at work"
   ]
  },
  {
   "cell_type": "code",
   "execution_count": 12,
   "metadata": {},
   "outputs": [],
   "source": [
    "osha = pd.read_csv('data/osha/osha_means.csv')\n",
    "osha = osha[osha.columns[1:]]\n",
    "osha = osha.drop(columns=['casrn', 'dtxsid', 'inchikey', 'iupac_name'])\n",
    "osha = osha.dropna(axis=0)\n",
    "toxprint_cols = [col for col in osha.columns if ':' in col]\n",
    "osha[toxprint_cols] = osha[toxprint_cols].astype(int)"
   ]
  },
  {
   "cell_type": "markdown",
   "metadata": {},
   "source": [
    "### Look at distribution of mean workplace exposure"
   ]
  },
  {
   "cell_type": "code",
   "execution_count": 9,
   "metadata": {},
   "outputs": [
    {
     "data": {
      "text/plain": [
       "count    7.180000e+02\n",
       "mean     1.423916e+05\n",
       "std      1.212598e+06\n",
       "min      0.000000e+00\n",
       "25%      0.000000e+00\n",
       "50%      2.096501e+00\n",
       "75%      4.087216e+03\n",
       "max      1.954403e+07\n",
       "Name: conc_mgm3, dtype: float64"
      ]
     },
     "execution_count": 9,
     "metadata": {},
     "output_type": "execute_result"
    }
   ],
   "source": [
    "osha['conc_mgm3'].describe()"
   ]
  },
  {
   "cell_type": "code",
   "execution_count": 327,
   "metadata": {},
   "outputs": [
    {
     "data": {
      "text/plain": [
       "(array([709.,   5.,   1.,   0.,   0.,   0.,   0.,   1.,   0.,   2.]),\n",
       " array([       0.        ,  1954402.7198364 ,  3908805.4396728 ,\n",
       "         5863208.1595092 ,  7817610.8793456 ,  9772013.599182  ,\n",
       "        11726416.3190184 , 13680819.03885481, 15635221.75869121,\n",
       "        17589624.47852761, 19544027.19836401]),\n",
       " <a list of 10 Patch objects>)"
      ]
     },
     "execution_count": 327,
     "metadata": {},
     "output_type": "execute_result"
    },
    {
     "data": {
      "image/png": "[encoded data removed]",
      "text/plain": [
       "<Figure size 432x288 with 1 Axes>"
      ]
     },
     "metadata": {
      "needs_background": "light"
     },
     "output_type": "display_data"
    }
   ],
   "source": [
    "plt.hist(osha['conc_mgm3'])"
   ]
  },
  {
   "cell_type": "markdown",
   "metadata": {},
   "source": [
    "The high outliers are up at 10 kg/m3, so they must be errors in the data. Let's drop everything above 10,000 mg/mg3"
   ]
  },
  {
   "cell_type": "code",
   "execution_count": 13,
   "metadata": {},
   "outputs": [
    {
     "data": {
      "text/plain": [
       "(array([491.,  18.,  14.,  14.,  14.,  10.,   3.,   3.,   4.,   7.]),\n",
       " array([   0.        ,  993.29412776, 1986.58825551, 2979.88238327,\n",
       "        3973.17651103, 4966.47063878, 5959.76476654, 6953.0588943 ,\n",
       "        7946.35302205, 8939.64714981, 9932.94127757]),\n",
       " <a list of 10 Patch objects>)"
      ]
     },
     "execution_count": 13,
     "metadata": {},
     "output_type": "execute_result"
    },
    {
     "data": {
      "image/png": "[encoded data removed]",
      "text/plain": [
       "<Figure size 432x288 with 1 Axes>"
      ]
     },
     "metadata": {
      "needs_background": "light"
     },
     "output_type": "display_data"
    }
   ],
   "source": [
    "osha = osha.drop(osha[osha['conc_mgm3']>10000].index)\n",
    "plt.hist(osha['conc_mgm3'])"
   ]
  },
  {
   "cell_type": "code",
   "execution_count": 14,
   "metadata": {},
   "outputs": [],
   "source": [
    "# It looks like log transforming our response is a good idea\n",
    "osha['ln_conc_mgm3'] = np.log(osha['conc_mgm3']+0.000001)\n",
    "\n",
    "# Let's also make a dataset without the mean 0 concentration substances\n",
    "osha_nonzero = osha[osha['conc_mgm3']>0]\n"
   ]
  },
  {
   "cell_type": "code",
   "execution_count": 332,
   "metadata": {},
   "outputs": [
    {
     "data": {
      "text/plain": [
       "(array([196.,   4.,   2.,  12.,  48.,  84.,  46.,  43.,  56.,  87.]),\n",
       " array([-1.38155106e+01, -1.15135983e+01, -9.21168606e+00, -6.90977382e+00,\n",
       "        -4.60786157e+00, -2.30594932e+00, -4.03707452e-03,  2.29787517e+00,\n",
       "         4.59978742e+00,  6.90169967e+00,  9.20361191e+00]),\n",
       " <a list of 10 Patch objects>)"
      ]
     },
     "execution_count": 332,
     "metadata": {},
     "output_type": "execute_result"
    },
    {
     "data": {
      "image/png": "[encoded data removed]",
      "text/plain": [
       "<Figure size 432x288 with 1 Axes>"
      ]
     },
     "metadata": {
      "needs_background": "light"
     },
     "output_type": "display_data"
    }
   ],
   "source": [
    "plt.hist(osha['ln_conc_mgm3'])"
   ]
  },
  {
   "cell_type": "markdown",
   "metadata": {},
   "source": [
    "### Let's filter out features that never occur in our chemical dataset "
   ]
  },
  {
   "cell_type": "code",
   "execution_count": 15,
   "metadata": {},
   "outputs": [],
   "source": [
    "from sklearn.feature_selection import VarianceThreshold\n",
    "osha = osha.loc[:, (osha ).any(axis=0)].copy()"
   ]
  },
  {
   "cell_type": "markdown",
   "metadata": {},
   "source": [
    "### Let's split this into a test and training dataset"
   ]
  },
  {
   "cell_type": "code",
   "execution_count": 16,
   "metadata": {},
   "outputs": [],
   "source": [
    "y = osha.ln_conc_mgm3\n",
    "x = osha.drop(['ln_conc_mgm3','conc_mgm3', 'preferred_name'],axis=1)\n",
    "x_train_all,x_test_all,y_train_all,y_test_all=train_test_split(x,y,test_size=0.2, random_state = 234)\n",
    "\n",
    "\n",
    "# a version of the dataset with only non-zero concentration substances\n",
    "y_nz = osha_nonzero.ln_conc_mgm3\n",
    "x_nz = osha_nonzero.drop(['ln_conc_mgm3','conc_mgm3', 'preferred_name'],axis=1)\n",
    "x_train_nz,x_test_nz,y_train_nz,y_test_nz=train_test_split(x_nz,y_nz,test_size=0.2, random_state = 234)\n",
    "\n",
    "# filter out low variance features, but keep full features as x_f for comparison\n",
    "from sklearn.feature_selection import VarianceThreshold\n",
    "var_filter = VarianceThreshold(threshold=0.1)\n",
    "var_filter.fit(x)\n",
    "x_f = x.loc[:,var_filter.get_support()]\n",
    "x_train,x_test,y_train,y_test=train_test_split(x_f,y,test_size=0.2, random_state=234)\n",
    "\n",
    "# same as above but non-zero substances\n",
    "var_filter = VarianceThreshold(threshold=0.1)\n",
    "var_filter.fit(x_nz)\n",
    "x_nzf = x_nz.loc[:,var_filter.get_support()]\n",
    "x_train_nzf,x_test_nzf,y_train_nzf,y_test_nzf=train_test_split(x_nzf,y_nz,test_size=0.2, random_state=234)\n",
    "\n",
    "feature_list = list(x_f.columns)\n",
    "feature_list_all = list(x.columns)"
   ]
  },
  {
   "cell_type": "code",
   "execution_count": 17,
   "metadata": {
    "scrolled": true
   },
   "outputs": [
    {
     "name": "stdout",
     "output_type": "stream",
     "text": [
      "Training Features Shape: (462, 22)\n",
      "Training Labels Shape: (462,)\n",
      "Testing Features Shape: (116, 22)\n",
      "Testing Labels Shape: (116,)\n"
     ]
    }
   ],
   "source": [
    "print('Training Features Shape:', x_train.shape)\n",
    "print('Training Labels Shape:', y_train.shape)\n",
    "print('Testing Features Shape:', x_test.shape)\n",
    "print('Testing Labels Shape:', y_test.shape)"
   ]
  },
  {
   "cell_type": "code",
   "execution_count": 18,
   "metadata": {},
   "outputs": [
    {
     "name": "stdout",
     "output_type": "stream",
     "text": [
      "Non-zero training Features Shape: (306, 742)\n"
     ]
    }
   ],
   "source": [
    "print('Non-zero training Features Shape:', x_train_nz.shape)"
   ]
  },
  {
   "cell_type": "markdown",
   "metadata": {},
   "source": [
    "### Let's try a quick and dirty random forest for a baseline"
   ]
  },
  {
   "cell_type": "code",
   "execution_count": 336,
   "metadata": {},
   "outputs": [],
   "source": [
    "from sklearn.ensemble import RandomForestRegressor\n",
    "from sklearn.metrics import r2_score"
   ]
  },
  {
   "cell_type": "markdown",
   "metadata": {},
   "source": [
    "View out-of-bag errors vs number of trees"
   ]
  },
  {
   "cell_type": "code",
   "execution_count": 339,
   "metadata": {},
   "outputs": [],
   "source": [
    "def plot_rf_oob(x_train, y_train, max_estimators, steps=10):\n",
    "    r2 = []\n",
    "    for i in range(100, max_estimators + 1, steps):\n",
    "        rf = RandomForestRegressor(i,random_state=342, oob_score=True)\n",
    "        rf.fit(x_train, y_train);\n",
    "        oob = rf.oob_score_\n",
    "        r2.append((i, oob))\n",
    "    xs, ys = zip(*r2)\n",
    "    plt.plot(xs, ys)"
   ]
  },
  {
   "cell_type": "code",
   "execution_count": null,
   "metadata": {},
   "outputs": [],
   "source": [
    "plot_rf_oob(x_train, y_train,5000)"
   ]
  },
  {
   "cell_type": "code",
   "execution_count": 316,
   "metadata": {},
   "outputs": [],
   "source": [
    "rf = RandomForestRegressor(2000,random_state=342)\n",
    "rf.fit(x_train, y_train);"
   ]
  },
  {
   "cell_type": "markdown",
   "metadata": {},
   "source": [
    "View the feature importance"
   ]
  },
  {
   "cell_type": "code",
   "execution_count": 317,
   "metadata": {},
   "outputs": [
    {
     "data": {
      "text/html": [
       "<div>\n",
       "<style scoped>\n",
       "    .dataframe tbody tr th:only-of-type {\n",
       "        vertical-align: middle;\n",
       "    }\n",
       "\n",
       "    .dataframe tbody tr th {\n",
       "        vertical-align: top;\n",
       "    }\n",
       "\n",
       "    .dataframe thead th {\n",
       "        text-align: right;\n",
       "    }\n",
       "</style>\n",
       "<table border=\"1\" class=\"dataframe\">\n",
       "  <thead>\n",
       "    <tr style=\"text-align: right;\">\n",
       "      <th></th>\n",
       "      <th>importance</th>\n",
       "    </tr>\n",
       "  </thead>\n",
       "  <tbody>\n",
       "    <tr>\n",
       "      <td>biodegradation_half_life_days_days_opera_pred</td>\n",
       "      <td>0.114302</td>\n",
       "    </tr>\n",
       "    <tr>\n",
       "      <td>vapor_pressure_mmhg_opera_pred</td>\n",
       "      <td>0.102025</td>\n",
       "    </tr>\n",
       "    <tr>\n",
       "      <td>melting_point_degc_opera_pred</td>\n",
       "      <td>0.095078</td>\n",
       "    </tr>\n",
       "    <tr>\n",
       "      <td>opera_km_days_opera_pred</td>\n",
       "      <td>0.092170</td>\n",
       "    </tr>\n",
       "    <tr>\n",
       "      <td>monoisotopic_mass</td>\n",
       "      <td>0.084272</td>\n",
       "    </tr>\n",
       "    <tr>\n",
       "      <td>octanol_air_partition_coeff_logkoa_opera_pred</td>\n",
       "      <td>0.077901</td>\n",
       "    </tr>\n",
       "    <tr>\n",
       "      <td>boiling_point_degc_opera_pred</td>\n",
       "      <td>0.076398</td>\n",
       "    </tr>\n",
       "    <tr>\n",
       "      <td>bioconcentration_factor_opera_pred</td>\n",
       "      <td>0.070189</td>\n",
       "    </tr>\n",
       "    <tr>\n",
       "      <td>soil_adsorption_coefficient_koc_l/kg_opera_pred</td>\n",
       "      <td>0.065035</td>\n",
       "    </tr>\n",
       "    <tr>\n",
       "      <td>water_solubility_mol/l_opera_pred</td>\n",
       "      <td>0.064564</td>\n",
       "    </tr>\n",
       "    <tr>\n",
       "      <td>octanol_water_partition_logp_opera_pred</td>\n",
       "      <td>0.060859</td>\n",
       "    </tr>\n",
       "    <tr>\n",
       "      <td>henrys_law_atm-m3/mole_opera_pred</td>\n",
       "      <td>0.045336</td>\n",
       "    </tr>\n",
       "    <tr>\n",
       "      <td>chain:aromaticalkane_ph-c1_acyclic_generic</td>\n",
       "      <td>0.010090</td>\n",
       "    </tr>\n",
       "    <tr>\n",
       "      <td>chain:alkanelinear_ethyl_c2(h_gt_1)</td>\n",
       "      <td>0.008342</td>\n",
       "    </tr>\n",
       "    <tr>\n",
       "      <td>bond:c=o_carbonyl_generic</td>\n",
       "      <td>0.007492</td>\n",
       "    </tr>\n",
       "    <tr>\n",
       "      <td>ring:aromatic_benzene</td>\n",
       "      <td>0.004715</td>\n",
       "    </tr>\n",
       "    <tr>\n",
       "      <td>chain:alkanelinear_ethyl_c2_(connect_noz_cn=4)</td>\n",
       "      <td>0.004101</td>\n",
       "    </tr>\n",
       "    <tr>\n",
       "      <td>bond:coh_alcohol_generic</td>\n",
       "      <td>0.004043</td>\n",
       "    </tr>\n",
       "    <tr>\n",
       "      <td>bond:x[any]_halide</td>\n",
       "      <td>0.003600</td>\n",
       "    </tr>\n",
       "    <tr>\n",
       "      <td>chain:alkanelinear_propyl_c3</td>\n",
       "      <td>0.003393</td>\n",
       "    </tr>\n",
       "  </tbody>\n",
       "</table>\n",
       "</div>"
      ],
      "text/plain": [
       "                                                 importance\n",
       "biodegradation_half_life_days_days_opera_pred      0.114302\n",
       "vapor_pressure_mmhg_opera_pred                     0.102025\n",
       "melting_point_degc_opera_pred                      0.095078\n",
       "opera_km_days_opera_pred                           0.092170\n",
       "monoisotopic_mass                                  0.084272\n",
       "octanol_air_partition_coeff_logkoa_opera_pred      0.077901\n",
       "boiling_point_degc_opera_pred                      0.076398\n",
       "bioconcentration_factor_opera_pred                 0.070189\n",
       "soil_adsorption_coefficient_koc_l/kg_opera_pred    0.065035\n",
       "water_solubility_mol/l_opera_pred                  0.064564\n",
       "octanol_water_partition_logp_opera_pred            0.060859\n",
       "henrys_law_atm-m3/mole_opera_pred                  0.045336\n",
       "chain:aromaticalkane_ph-c1_acyclic_generic         0.010090\n",
       "chain:alkanelinear_ethyl_c2(h_gt_1)                0.008342\n",
       "bond:c=o_carbonyl_generic                          0.007492\n",
       "ring:aromatic_benzene                              0.004715\n",
       "chain:alkanelinear_ethyl_c2_(connect_noz_cn=4)     0.004101\n",
       "bond:coh_alcohol_generic                           0.004043\n",
       "bond:x[any]_halide                                 0.003600\n",
       "chain:alkanelinear_propyl_c3                       0.003393"
      ]
     },
     "execution_count": 317,
     "metadata": {},
     "output_type": "execute_result"
    }
   ],
   "source": [
    "feature_importances = pd.DataFrame(rf.feature_importances_,\n",
    "                                   index = feature_list,\n",
    "                                    columns=['importance']).sort_values('importance',ascending=False)\n",
    "feature_importances.head(20)"
   ]
  },
  {
   "cell_type": "code",
   "execution_count": 320,
   "metadata": {},
   "outputs": [
    {
     "name": "stdout",
     "output_type": "stream",
     "text": [
      "Mean Absolute Error: 7.29 ln mg/m3.\n",
      "R2: -0.03426517694878184\n"
     ]
    }
   ],
   "source": [
    "# Use the forest's predict method on the test data\n",
    "predictions = rf.predict(x_test)# Calculate the absolute errors\n",
    "errors = abs(predictions - y_test)# Print out the mean absolute error (mae)\n",
    "print('Mean Absolute Error:', round(np.mean(errors), 2), 'ln mg/m3.')\n",
    "print('R2:', r2_score(y_test,predictions))"
   ]
  },
  {
   "cell_type": "code",
   "execution_count": 375,
   "metadata": {},
   "outputs": [],
   "source": [
    "def plot_fit(predicted, y):\n",
    "    fig, ax = plt.subplots()\n",
    "    ax.scatter(y, predicted)\n",
    "    ax.plot([y.min(), y.max()], [y.min(), y.max()], 'k--', lw=4)\n",
    "    ax.set_xlabel('Measured ln mg/m3')\n",
    "    ax.set_ylabel('Predicted ln mg/m3')\n",
    "    plt.show()"
   ]
  },
  {
   "cell_type": "code",
   "execution_count": 315,
   "metadata": {},
   "outputs": [
    {
     "data": {
      "image/png": "[encoded data removed]",
      "text/plain": [
       "<Figure size 432x288 with 1 Axes>"
      ]
     },
     "metadata": {
      "needs_background": "light"
     },
     "output_type": "display_data"
    }
   ],
   "source": [
    "plot_fit(predictions, y_test)"
   ]
  },
  {
   "cell_type": "markdown",
   "metadata": {},
   "source": [
    "### Let's look at using lasso regression"
   ]
  },
  {
   "cell_type": "code",
   "execution_count": 211,
   "metadata": {},
   "outputs": [],
   "source": [
    "from sklearn.linear_model import LassoCV\n",
    "from sklearn.linear_model import Lasso\n",
    "from sklearn.model_selection import KFold\n",
    "from sklearn.model_selection import GridSearchCV"
   ]
  },
  {
   "cell_type": "code",
   "execution_count": 299,
   "metadata": {},
   "outputs": [
    {
     "data": {
      "text/plain": [
       "(0.0001, 10000000000.0)"
      ]
     },
     "execution_count": 299,
     "metadata": {},
     "output_type": "execute_result"
    },
    {
     "data": {
      "image/png": "[encoded data removed]",
      "text/plain": [
       "<Figure size 576x432 with 1 Axes>"
      ]
     },
     "metadata": {
      "needs_background": "light"
     },
     "output_type": "display_data"
    }
   ],
   "source": [
    "lasso = Lasso(random_state=0, max_iter=50000)\n",
    "alphas = np.logspace(-4, 10, 200)\n",
    "\n",
    "tuned_parameters = [{'alpha': alphas}]\n",
    "n_folds = 3\n",
    "\n",
    "clf = GridSearchCV(lasso, tuned_parameters, cv=n_folds, refit=False, scoring='r2')\n",
    "clf.fit(x_train, y_train)\n",
    "scores = clf.cv_results_['mean_test_score']\n",
    "scores_std = clf.cv_results_['std_test_score']\n",
    "plt.figure().set_size_inches(8, 6)\n",
    "plt.semilogx(alphas, scores)\n",
    "\n",
    "\n",
    "# plot error lines showing +/- std. errors of the scores\n",
    "std_error = scores_std / np.sqrt(n_folds)\n",
    "\n",
    "plt.semilogx(alphas, scores + std_error, 'b--')\n",
    "plt.semilogx(alphas, scores - std_error, 'b--')\n",
    "\n",
    "# alpha=0.2 controls the translucency of the fill color\n",
    "plt.fill_between(alphas, scores + std_error, scores - std_error, alpha=0.2)\n",
    "\n",
    "plt.ylabel('CV score +/- std error')\n",
    "plt.xlabel('alpha')\n",
    "plt.axhline(np.max(scores), linestyle='--', color='.5')\n",
    "plt.xlim([alphas[0], alphas[-1]])"
   ]
  },
  {
   "cell_type": "code",
   "execution_count": 302,
   "metadata": {},
   "outputs": [
    {
     "data": {
      "text/plain": [
       "{'alpha': 112.26677735108136}"
      ]
     },
     "execution_count": 302,
     "metadata": {},
     "output_type": "execute_result"
    }
   ],
   "source": [
    "clf.best_params_"
   ]
  },
  {
   "cell_type": "code",
   "execution_count": 350,
   "metadata": {},
   "outputs": [
    {
     "data": {
      "text/plain": [
       "0.061095840184869576"
      ]
     },
     "execution_count": 350,
     "metadata": {},
     "output_type": "execute_result"
    }
   ],
   "source": [
    "lassocv = LassoCV(cv=3,random_state=0).fit(x_train, y_train)\n",
    "lassocv.score(x_train, y_train)"
   ]
  },
  {
   "cell_type": "code",
   "execution_count": 275,
   "metadata": {},
   "outputs": [
    {
     "data": {
      "text/plain": [
       "106.42793054138694"
      ]
     },
     "execution_count": 275,
     "metadata": {},
     "output_type": "execute_result"
    }
   ],
   "source": [
    "lassocv.alpha_"
   ]
  },
  {
   "cell_type": "code",
   "execution_count": 277,
   "metadata": {},
   "outputs": [
    {
     "data": {
      "text/plain": [
       "[('bioconcentration_factor_opera_pred', 0.00045719901384430855),\n",
       " ('boiling_point_degc_opera_pred', -0.006559834766911512),\n",
       " ('monoisotopic_mass', -0.0037290611281054838),\n",
       " ('soil_adsorption_coefficient_koc_l/kg_opera_pred', -3.583778487279548e-06),\n",
       " ('vapor_pressure_mmhg_opera_pred', -0.000488359018595722)]"
      ]
     },
     "execution_count": 277,
     "metadata": {},
     "output_type": "execute_result"
    }
   ],
   "source": [
    "[(feature_list[i], coef) for i, coef in enumerate(lassocv.coef_) if (~np.isclose(coef,0))]"
   ]
  },
  {
   "cell_type": "code",
   "execution_count": 353,
   "metadata": {},
   "outputs": [
    {
     "data": {
      "image/png": "[encoded data removed]",
      "text/plain": [
       "<Figure size 432x288 with 1 Axes>"
      ]
     },
     "metadata": {
      "needs_background": "light"
     },
     "output_type": "display_data"
    }
   ],
   "source": [
    "predictions = lassocv.predict(x_test)\n",
    "plot_fit(predictions, y_test)"
   ]
  },
  {
   "cell_type": "markdown",
   "metadata": {},
   "source": [
    "### Compare to a lasso model on all features"
   ]
  },
  {
   "cell_type": "code",
   "execution_count": 304,
   "metadata": {},
   "outputs": [
    {
     "data": {
      "text/plain": [
       "0.061095840184869576"
      ]
     },
     "execution_count": 304,
     "metadata": {},
     "output_type": "execute_result"
    }
   ],
   "source": [
    "lassocv2 = LassoCV(cv=5,random_state=0).fit(x_train_all, y_train_all)\n",
    "lassocv2.score(x_train_all, y_train_all)"
   ]
  },
  {
   "cell_type": "code",
   "execution_count": 305,
   "metadata": {},
   "outputs": [
    {
     "data": {
      "text/plain": [
       "0.03133287602649926"
      ]
     },
     "execution_count": 305,
     "metadata": {},
     "output_type": "execute_result"
    }
   ],
   "source": [
    "lassocv2.score(x_test_all, y_test_all)"
   ]
  },
  {
   "cell_type": "code",
   "execution_count": 306,
   "metadata": {},
   "outputs": [
    {
     "data": {
      "text/plain": [
       "106.42793054138694"
      ]
     },
     "execution_count": 306,
     "metadata": {},
     "output_type": "execute_result"
    }
   ],
   "source": [
    "lassocv2.alpha_"
   ]
  },
  {
   "cell_type": "code",
   "execution_count": 307,
   "metadata": {},
   "outputs": [
    {
     "data": {
      "text/plain": [
       "[('bioconcentration_factor_opera_pred', 0.00045719901384430855),\n",
       " ('boiling_point_degc_opera_pred', -0.006559834766911512),\n",
       " ('monoisotopic_mass', -0.0037290611281054838),\n",
       " ('soil_adsorption_coefficient_koc_l/kg_opera_pred', -3.583778487279548e-06),\n",
       " ('vapor_pressure_mmhg_opera_pred', -0.000488359018595722)]"
      ]
     },
     "execution_count": 307,
     "metadata": {},
     "output_type": "execute_result"
    }
   ],
   "source": [
    "[(feature_list_all[i], coef) for i, coef in enumerate(lassocv2.coef_) if (~np.isclose(coef,0))]"
   ]
  },
  {
   "cell_type": "markdown",
   "metadata": {},
   "source": [
    "### What if we model only chemicals that had an average conc above 0?"
   ]
  },
  {
   "cell_type": "code",
   "execution_count": null,
   "metadata": {},
   "outputs": [],
   "source": [
    "rf = RandomForestRegressor(2000,random_state=342)\n",
    "rf.fit(x_train_nz, y_train_nz);"
   ]
  },
  {
   "cell_type": "code",
   "execution_count": 341,
   "metadata": {},
   "outputs": [
    {
     "data": {
      "image/png": "[encoded data removed]",
      "text/plain": [
       "<Figure size 432x288 with 1 Axes>"
      ]
     },
     "metadata": {
      "needs_background": "light"
     },
     "output_type": "display_data"
    }
   ],
   "source": [
    "plot_rf_oob(x_train_nz, y_train_nz, 500)"
   ]
  },
  {
   "cell_type": "code",
   "execution_count": 371,
   "metadata": {},
   "outputs": [
    {
     "name": "stderr",
     "output_type": "stream",
     "text": [
      "/home/jminucci/anaconda3/envs/occupation/lib/python3.7/site-packages/sklearn/model_selection/_search.py:814: DeprecationWarning: The default of the `iid` parameter will change from True to False in version 0.22 and will be removed in 0.24. This will change numeric results when test-set sizes are unequal.\n",
      "  DeprecationWarning)\n"
     ]
    },
    {
     "data": {
      "text/plain": [
       "GridSearchCV(cv=5, error_score='raise-deprecating',\n",
       "             estimator=RandomForestRegressor(bootstrap=True, criterion='mse',\n",
       "                                             max_depth=None,\n",
       "                                             max_features='auto',\n",
       "                                             max_leaf_nodes=None,\n",
       "                                             min_impurity_decrease=0.0,\n",
       "                                             min_impurity_split=None,\n",
       "                                             min_samples_leaf=1,\n",
       "                                             min_samples_split=2,\n",
       "                                             min_weight_fraction_leaf=0.0,\n",
       "                                             n_estimators='warn', n_jobs=None,\n",
       "                                             oob_score=False, random_state=None,\n",
       "                                             verbose=0, warm_start=False),\n",
       "             iid='warn', n_jobs=20,\n",
       "             param_grid={'n_estimators': [100, 250, 500, 750, 1000, 1500, 2000,\n",
       "                                          2500, 3000, 3250, 3500]},\n",
       "             pre_dispatch='2*n_jobs', refit=True, return_train_score=False,\n",
       "             scoring=None, verbose=0)"
      ]
     },
     "execution_count": 371,
     "metadata": {},
     "output_type": "execute_result"
    }
   ],
   "source": [
    "param_grid = {'n_estimators': [100, 250, 500, 750, 1000, 1500, 2000, 2500, 3000, 3250, 3500]}\n",
    "grid_rf = GridSearchCV(RandomForestRegressor(), param_grid, cv=5, n_jobs=20)\n",
    "grid_rf.fit(x_train_nzf, y_train_nzf)"
   ]
  },
  {
   "cell_type": "code",
   "execution_count": 372,
   "metadata": {},
   "outputs": [
    {
     "data": {
      "text/plain": [
       "{'n_estimators': 2500}"
      ]
     },
     "execution_count": 372,
     "metadata": {},
     "output_type": "execute_result"
    }
   ],
   "source": [
    "grid_rf.best_params_"
   ]
  },
  {
   "cell_type": "code",
   "execution_count": 373,
   "metadata": {},
   "outputs": [
    {
     "name": "stdout",
     "output_type": "stream",
     "text": [
      "Mean Absolute Error: 3.51 ln mg/m3.\n",
      "R2: 0.1122177619935043\n"
     ]
    }
   ],
   "source": [
    "best_rf = grid_rf.best_estimator_\n",
    "predictions = best_rf.predict(x_test_nzf)# Calculate the absolute errors\n",
    "errors = abs(predictions - y_test_nzf)# Print out the mean absolute error (mae)\n",
    "print('Mean Absolute Error:', round(np.mean(errors), 2), 'ln mg/m3.')\n",
    "print('R2:', r2_score(y_test_nzf,predictions))"
   ]
  },
  {
   "cell_type": "code",
   "execution_count": 374,
   "metadata": {},
   "outputs": [
    {
     "data": {
      "image/png": "[encoded data removed]",
      "text/plain": [
       "<Figure size 432x288 with 1 Axes>"
      ]
     },
     "metadata": {
      "needs_background": "light"
     },
     "output_type": "display_data"
    }
   ],
   "source": [
    "plot_fit(predictions, y_test_nzf)"
   ]
  },
  {
   "cell_type": "markdown",
   "metadata": {},
   "source": [
    "### Let's try a multi-layer perceptron for fun"
   ]
  },
  {
   "cell_type": "code",
   "execution_count": 425,
   "metadata": {},
   "outputs": [],
   "source": [
    "from sklearn.preprocessing import StandardScaler\n",
    "\n",
    "scaler = StandardScaler()\n",
    "scaler.fit(x_train_nzf)\n",
    "StandardScaler(copy=True, with_mean=True, with_std=True)\n",
    "x_train_scaled = scaler.transform(x_train_nzf)\n",
    "x_test_scaled = scaler.transform(x_test_nzf)"
   ]
  },
  {
   "cell_type": "code",
   "execution_count": 450,
   "metadata": {},
   "outputs": [
    {
     "data": {
      "text/plain": [
       "MLPRegressor(activation='relu', alpha=0.0001, batch_size='auto', beta_1=0.9,\n",
       "             beta_2=0.999, early_stopping=False, epsilon=1e-08,\n",
       "             hidden_layer_sizes=(200, 200), learning_rate='adaptive',\n",
       "             learning_rate_init=0.001, max_iter=5000, momentum=0.9,\n",
       "             n_iter_no_change=10, nesterovs_momentum=True, power_t=0.5,\n",
       "             random_state=None, shuffle=True, solver='adam', tol=0.0001,\n",
       "             validation_fraction=0.1, verbose=False, warm_start=False)"
      ]
     },
     "execution_count": 450,
     "metadata": {},
     "output_type": "execute_result"
    }
   ],
   "source": [
    "from sklearn.neural_network import MLPRegressor\n",
    "mlp = MLPRegressor(activation='relu',hidden_layer_sizes=(200, 200),max_iter=5000, learning_rate='adaptive', verbose=False)\n",
    "mlp.fit(x_train_scaled,y_train_nzf)"
   ]
  },
  {
   "cell_type": "code",
   "execution_count": 451,
   "metadata": {},
   "outputs": [
    {
     "data": {
      "text/plain": [
       "-2.542892219536241"
      ]
     },
     "execution_count": 451,
     "metadata": {},
     "output_type": "execute_result"
    }
   ],
   "source": [
    "mlp.score(x_test_scaled,y_test_nzf) # r2"
   ]
  },
  {
   "cell_type": "code",
   "execution_count": 435,
   "metadata": {},
   "outputs": [
    {
     "data": {
      "image/png": "[encoded data removed]",
      "text/plain": [
       "<Figure size 432x288 with 1 Axes>"
      ]
     },
     "metadata": {
      "needs_background": "light"
     },
     "output_type": "display_data"
    }
   ],
   "source": [
    "predictions = mlp.predict(x_test_scaled)\n",
    "plot_fit(predictions,y_test_nzf)"
   ]
  }
 ],
 "metadata": {
  "kernelspec": {
   "display_name": "Python [conda env:occupation]",
   "language": "python",
   "name": "conda-env-occupation-py"
  },
  "language_info": {
   "codemirror_mode": {
    "name": "ipython",
    "version": 3
   },
   "file_extension": ".py",
   "mimetype": "text/x-python",
   "name": "python",
   "nbconvert_exporter": "python",
   "pygments_lexer": "ipython3",
   "version": "3.7.4"
  }
 },
 "nbformat": 4,
 "nbformat_minor": 2
}
