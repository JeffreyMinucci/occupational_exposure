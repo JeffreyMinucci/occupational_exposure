{
 "cells": [
  {
   "cell_type": "markdown",
   "metadata": {},
   "source": [
    "# Exploring and unifying NAICS codes in the OSHA data\n",
    "### Author: Jeff Minucci\n",
    "### Date: 9/9/2019"
   ]
  },
  {
   "cell_type": "code",
   "execution_count": 1,
   "metadata": {},
   "outputs": [
    {
     "name": "stdout",
     "output_type": "stream",
     "text": [
      "Using matplotlib backend: Qt5Agg\n"
     ]
    }
   ],
   "source": [
    "%matplotlib\n",
    "import numpy as np\n",
    "import pandas as pd\n",
    "import matplotlib.pyplot as plt\n",
    "import zipfile\n",
    "import datetime\n",
    "from tabulate import tabulate\n",
    "from numba import jit\n",
    "%matplotlib inline\n",
    "from functions_utils.naics_convert import naics_to_2017"
   ]
  },
  {
   "cell_type": "code",
   "execution_count": 2,
   "metadata": {
    "scrolled": true
   },
   "outputs": [
    {
     "name": "stderr",
     "output_type": "stream",
     "text": [
      "/home/jminucci/anaconda3/envs/occupation/lib/python3.7/site-packages/IPython/core/interactiveshell.py:3058: DtypeWarning: Columns (1,8,12,21) have mixed types. Specify dtype option on import or set low_memory=False.\n",
      "  interactivity=interactivity, compiler=compiler, result=result)\n"
     ]
    }
   ],
   "source": [
    "if not '../data/osha/osha_normalized.csv':\n",
    "    with zipfile.ZipFile('../data/osha/osha_normalized.zip','r') as zfile:\n",
    "        zfile.extractall('../data/osha')\n",
    "osha = pd.read_csv('../data/osha/osha_normalized.csv', dtype={'naics_code':str, 'sic_code':str},\n",
    "                  na_values = [\"\", \" \",\"NaN\", \"nan\", \"NA\", \"na\", \"Na\"])\n",
    "osha = osha[osha.columns[1:]]\n",
    "#osha['naics_code'] = osha['naics_code'].astype(int, errors = 'ignore')\n",
    "#osha['sic_code'] = osha['sic_code'].astype(int, errors = 'ignore')"
   ]
  },
  {
   "cell_type": "code",
   "execution_count": 3,
   "metadata": {},
   "outputs": [
    {
     "data": {
      "text/html": [
       "<div>\n",
       "<style scoped>\n",
       "    .dataframe tbody tr th:only-of-type {\n",
       "        vertical-align: middle;\n",
       "    }\n",
       "\n",
       "    .dataframe tbody tr th {\n",
       "        vertical-align: top;\n",
       "    }\n",
       "\n",
       "    .dataframe thead th {\n",
       "        text-align: right;\n",
       "    }\n",
       "</style>\n",
       "<table border=\"1\" class=\"dataframe\">\n",
       "  <thead>\n",
       "    <tr style=\"text-align: right;\">\n",
       "      <th></th>\n",
       "      <th>inspection_number</th>\n",
       "      <th>establishment_name</th>\n",
       "      <th>city</th>\n",
       "      <th>state</th>\n",
       "      <th>zip_code</th>\n",
       "      <th>sic_code</th>\n",
       "      <th>naics_code</th>\n",
       "      <th>sampling_number</th>\n",
       "      <th>office_id</th>\n",
       "      <th>date_sampled</th>\n",
       "      <th>...</th>\n",
       "      <th>sample_weight</th>\n",
       "      <th>imis_substance_code</th>\n",
       "      <th>substance</th>\n",
       "      <th>sample_result</th>\n",
       "      <th>unit_of_measurement</th>\n",
       "      <th>qualifier</th>\n",
       "      <th>input</th>\n",
       "      <th>average_mass</th>\n",
       "      <th>preferred_name</th>\n",
       "      <th>conc_mgm3</th>\n",
       "    </tr>\n",
       "  </thead>\n",
       "  <tbody>\n",
       "    <tr>\n",
       "      <td>0</td>\n",
       "      <td>111211</td>\n",
       "      <td>CONTROLLED CASTINGS CORP</td>\n",
       "      <td>Plainview</td>\n",
       "      <td>NY</td>\n",
       "      <td>11803.0</td>\n",
       "      <td>3365</td>\n",
       "      <td>0</td>\n",
       "      <td>5.24554e+06</td>\n",
       "      <td>214700.0</td>\n",
       "      <td>1984/05/07 00:00:00</td>\n",
       "      <td>...</td>\n",
       "      <td>NaN</td>\n",
       "      <td>T100</td>\n",
       "      <td>Thorium</td>\n",
       "      <td>0.0005</td>\n",
       "      <td>M</td>\n",
       "      <td>NaN</td>\n",
       "      <td>Thorium</td>\n",
       "      <td>232.0377</td>\n",
       "      <td>Thorium</td>\n",
       "      <td>0.0005</td>\n",
       "    </tr>\n",
       "    <tr>\n",
       "      <td>1</td>\n",
       "      <td>111211</td>\n",
       "      <td>CONTROLLED CASTINGS CORP</td>\n",
       "      <td>Plainview</td>\n",
       "      <td>NY</td>\n",
       "      <td>11803.0</td>\n",
       "      <td>3365</td>\n",
       "      <td>0</td>\n",
       "      <td>5.2455e+06</td>\n",
       "      <td>214700.0</td>\n",
       "      <td>1984/05/07 00:00:00</td>\n",
       "      <td>...</td>\n",
       "      <td>NaN</td>\n",
       "      <td>T100</td>\n",
       "      <td>Thorium</td>\n",
       "      <td>0.0160</td>\n",
       "      <td>M</td>\n",
       "      <td>NaN</td>\n",
       "      <td>Thorium</td>\n",
       "      <td>232.0377</td>\n",
       "      <td>Thorium</td>\n",
       "      <td>0.0160</td>\n",
       "    </tr>\n",
       "    <tr>\n",
       "      <td>2</td>\n",
       "      <td>111252</td>\n",
       "      <td>MID ISLAND NON FERROUS FOUNDRY</td>\n",
       "      <td>East Farmingdale</td>\n",
       "      <td>NY</td>\n",
       "      <td>11735.0</td>\n",
       "      <td>3365</td>\n",
       "      <td>0</td>\n",
       "      <td>5.24534e+06</td>\n",
       "      <td>214700.0</td>\n",
       "      <td>1984/04/04 00:00:00</td>\n",
       "      <td>...</td>\n",
       "      <td>0.0</td>\n",
       "      <td>1591</td>\n",
       "      <td>Lead, Inorganic (as Pb)</td>\n",
       "      <td>0.0640</td>\n",
       "      <td>M</td>\n",
       "      <td>NaN</td>\n",
       "      <td>Lead, Inorganic (as Pb)</td>\n",
       "      <td>207.2000</td>\n",
       "      <td>Lead</td>\n",
       "      <td>0.0640</td>\n",
       "    </tr>\n",
       "    <tr>\n",
       "      <td>3</td>\n",
       "      <td>114645</td>\n",
       "      <td>TRILECTRON INDUSTRIES INC</td>\n",
       "      <td>Hawthorne</td>\n",
       "      <td>NJ</td>\n",
       "      <td>7506.0</td>\n",
       "      <td>3612</td>\n",
       "      <td>0</td>\n",
       "      <td>5.26995e+06</td>\n",
       "      <td>214500.0</td>\n",
       "      <td>1984/04/16 00:00:00</td>\n",
       "      <td>...</td>\n",
       "      <td>NaN</td>\n",
       "      <td>1591</td>\n",
       "      <td>Lead, Inorganic (as Pb)</td>\n",
       "      <td>0.0000</td>\n",
       "      <td>M</td>\n",
       "      <td>ND</td>\n",
       "      <td>Lead, Inorganic (as Pb)</td>\n",
       "      <td>207.2000</td>\n",
       "      <td>Lead</td>\n",
       "      <td>0.0000</td>\n",
       "    </tr>\n",
       "    <tr>\n",
       "      <td>4</td>\n",
       "      <td>121590</td>\n",
       "      <td>ALPHA METALS INC</td>\n",
       "      <td>Jersey City</td>\n",
       "      <td>NJ</td>\n",
       "      <td>7304.0</td>\n",
       "      <td>3356</td>\n",
       "      <td>0</td>\n",
       "      <td>5.25176e+06</td>\n",
       "      <td>214200.0</td>\n",
       "      <td>1984/08/16 00:00:00</td>\n",
       "      <td>...</td>\n",
       "      <td>NaN</td>\n",
       "      <td>1591</td>\n",
       "      <td>Lead, Inorganic (as Pb)</td>\n",
       "      <td>0.0000</td>\n",
       "      <td>M</td>\n",
       "      <td>ND</td>\n",
       "      <td>Lead, Inorganic (as Pb)</td>\n",
       "      <td>207.2000</td>\n",
       "      <td>Lead</td>\n",
       "      <td>0.0000</td>\n",
       "    </tr>\n",
       "  </tbody>\n",
       "</table>\n",
       "<p>5 rows × 29 columns</p>\n",
       "</div>"
      ],
      "text/plain": [
       "  inspection_number              establishment_name              city state  \\\n",
       "0            111211        CONTROLLED CASTINGS CORP         Plainview    NY   \n",
       "1            111211        CONTROLLED CASTINGS CORP         Plainview    NY   \n",
       "2            111252  MID ISLAND NON FERROUS FOUNDRY  East Farmingdale    NY   \n",
       "3            114645       TRILECTRON INDUSTRIES INC         Hawthorne    NJ   \n",
       "4            121590                ALPHA METALS INC       Jersey City    NJ   \n",
       "\n",
       "   zip_code sic_code naics_code sampling_number  office_id  \\\n",
       "0   11803.0     3365          0     5.24554e+06   214700.0   \n",
       "1   11803.0     3365          0      5.2455e+06   214700.0   \n",
       "2   11735.0     3365          0     5.24534e+06   214700.0   \n",
       "3    7506.0     3612          0     5.26995e+06   214500.0   \n",
       "4    7304.0     3356          0     5.25176e+06   214200.0   \n",
       "\n",
       "          date_sampled  ... sample_weight imis_substance_code  \\\n",
       "0  1984/05/07 00:00:00  ...           NaN                T100   \n",
       "1  1984/05/07 00:00:00  ...           NaN                T100   \n",
       "2  1984/04/04 00:00:00  ...           0.0                1591   \n",
       "3  1984/04/16 00:00:00  ...           NaN                1591   \n",
       "4  1984/08/16 00:00:00  ...           NaN                1591   \n",
       "\n",
       "                 substance sample_result unit_of_measurement qualifier  \\\n",
       "0                  Thorium        0.0005                   M       NaN   \n",
       "1                  Thorium        0.0160                   M       NaN   \n",
       "2  Lead, Inorganic (as Pb)        0.0640                   M       NaN   \n",
       "3  Lead, Inorganic (as Pb)        0.0000                   M        ND   \n",
       "4  Lead, Inorganic (as Pb)        0.0000                   M        ND   \n",
       "\n",
       "                     input  average_mass  preferred_name  conc_mgm3  \n",
       "0                  Thorium      232.0377         Thorium     0.0005  \n",
       "1                  Thorium      232.0377         Thorium     0.0160  \n",
       "2  Lead, Inorganic (as Pb)      207.2000            Lead     0.0640  \n",
       "3  Lead, Inorganic (as Pb)      207.2000            Lead     0.0000  \n",
       "4  Lead, Inorganic (as Pb)      207.2000            Lead     0.0000  \n",
       "\n",
       "[5 rows x 29 columns]"
      ]
     },
     "execution_count": 3,
     "metadata": {},
     "output_type": "execute_result"
    }
   ],
   "source": [
    "osha.head(5)"
   ]
  },
  {
   "cell_type": "markdown",
   "metadata": {},
   "source": [
    "### Examining the NAICS codes reported in the osha data"
   ]
  },
  {
   "cell_type": "markdown",
   "metadata": {},
   "source": [
    "#### How many workplaces have naics codes associated with them?"
   ]
  },
  {
   "cell_type": "code",
   "execution_count": 4,
   "metadata": {
    "scrolled": true
   },
   "outputs": [
    {
     "name": "stdout",
     "output_type": "stream",
     "text": [
      "Percent of workplaces with a naics code reported: 43%\n"
     ]
    }
   ],
   "source": [
    "wp_naics = osha[['establishment_name', 'naics_code']].groupby(['establishment_name']).max()\n",
    "percent_reported = len(wp_naics[wp_naics['naics_code'].astype(float)>1]) / len(wp_naics) * 100\n",
    "print(\"Percent of workplaces with a naics code reported: {0:.0f}%\".format(percent_reported))"
   ]
  },
  {
   "cell_type": "code",
   "execution_count": 5,
   "metadata": {},
   "outputs": [],
   "source": [
    "osha['year'] = pd.DatetimeIndex(osha['date_sampled']).year"
   ]
  },
  {
   "cell_type": "code",
   "execution_count": 6,
   "metadata": {
    "scrolled": false
   },
   "outputs": [
    {
     "name": "stdout",
     "output_type": "stream",
     "text": [
      "Percent of workplaces with naics code reported by year:\n",
      "1984: 0%\n",
      "1985: 0%\n",
      "1986: 0%\n",
      "1987: 0%\n",
      "1988: 0%\n",
      "1989: 0%\n",
      "1990: 0%\n",
      "1991: 1%\n",
      "1992: 0%\n",
      "1993: 0%\n",
      "1994: 0%\n",
      "1995: 0%\n",
      "1996: 0%\n",
      "1997: 1%\n",
      "1998: 1%\n",
      "1999: 1%\n",
      "2000: 1%\n",
      "2001: 2%\n",
      "2002: 22%\n",
      "2003: 98%\n",
      "2004: 100%\n",
      "2005: 100%\n",
      "2006: 100%\n",
      "2007: 100%\n",
      "2008: 100%\n",
      "2009: 100%\n",
      "2010: 100%\n",
      "2011: 100%\n",
      "2012: 100%\n",
      "2013: 100%\n",
      "2014: 100%\n",
      "2015: 100%\n",
      "2016: 91%\n",
      "2017: 100%\n",
      "2018: 100%\n"
     ]
    }
   ],
   "source": [
    "wp_naics_yr = osha[['establishment_name', 'naics_code','year']].groupby(['establishment_name', 'year']).max().reset_index()\n",
    "print(\"Percent of workplaces with naics code reported by year:\")\n",
    "for yr in range(wp_naics_yr['year'].min(), wp_naics_yr['year'].max()+1):\n",
    "    percent_reported = len(wp_naics_yr[(wp_naics_yr['year'] == yr) & (wp_naics_yr[0]>1)])\\\n",
    "    / len(wp_naics_yr[wp_naics_yr['year'] == yr]) * 100\n",
    "    print(\"{0}: {1:.0f}%\".format(yr,percent_reported))"
   ]
  },
  {
   "cell_type": "markdown",
   "metadata": {},
   "source": [
    "#### How many workplaces have the older sic codes?"
   ]
  },
  {
   "cell_type": "code",
   "execution_count": 7,
   "metadata": {},
   "outputs": [
    {
     "name": "stdout",
     "output_type": "stream",
     "text": [
      "Percent of workplaces with an sic code reported: 82%\n"
     ]
    }
   ],
   "source": [
    "wp_sic = osha[['establishment_name', 'sic_code']].groupby(['establishment_name']).max()\n",
    "percent_reported = len(wp_sic[wp_sic['sic_code'].astype(float)>1]) / len(wp_sic) * 100\n",
    "print(\"Percent of workplaces with an sic code reported: {0:.0f}%\".format(percent_reported))"
   ]
  },
  {
   "cell_type": "code",
   "execution_count": 8,
   "metadata": {
    "scrolled": true
   },
   "outputs": [
    {
     "name": "stdout",
     "output_type": "stream",
     "text": [
      "Percent of workplaces with sic code reported by year:\n",
      "1984: 100%\n",
      "1985: 100%\n",
      "1986: 100%\n",
      "1987: 100%\n",
      "1988: 100%\n",
      "1989: 100%\n",
      "1990: 100%\n",
      "1991: 100%\n",
      "1992: 100%\n",
      "1993: 100%\n",
      "1994: 100%\n",
      "1995: 100%\n",
      "1996: 100%\n",
      "1997: 100%\n",
      "1998: 100%\n",
      "1999: 100%\n",
      "2000: 100%\n",
      "2001: 100%\n",
      "2002: 100%\n",
      "2003: 100%\n",
      "2004: 100%\n",
      "2005: 100%\n",
      "2006: 100%\n",
      "2007: 100%\n",
      "2008: 100%\n",
      "2009: 100%\n",
      "2010: 100%\n",
      "2011: 82%\n",
      "2012: 24%\n",
      "2013: 4%\n",
      "2014: 3%\n",
      "2015: 1%\n",
      "2016: 9%\n",
      "2017: 0%\n",
      "2018: 0%\n"
     ]
    }
   ],
   "source": [
    "wp_sic_yr = osha[['establishment_name','sic_code','year']].groupby(['establishment_name', 'year']).max().reset_index()\n",
    "print(\"Percent of workplaces with sic code reported by year:\")\n",
    "for yr in range(wp_sic_yr['year'].min(), wp_sic_yr['year'].max()+1):\n",
    "    percent_reported = len(wp_sic_yr[(wp_sic_yr['year'] == yr) & (wp_sic_yr[0]>1)])\\\n",
    "    / len(wp_sic_yr[wp_sic_yr['year'] == yr]) * 100\n",
    "    print(\"{0}: {1:.0f}%\".format(yr,percent_reported))"
   ]
  },
  {
   "cell_type": "markdown",
   "metadata": {},
   "source": [
    "#### What format are the naics codes in? \n",
    "Options: 2002, 2007, 2012, 2017 <br>\n",
    "2007 was the last major version, there are only a handful of changes in 2012 and 2017"
   ]
  },
  {
   "cell_type": "code",
   "execution_count": 9,
   "metadata": {
    "scrolled": true
   },
   "outputs": [
    {
     "data": {
      "text/html": [
       "<div>\n",
       "<style scoped>\n",
       "    .dataframe tbody tr th:only-of-type {\n",
       "        vertical-align: middle;\n",
       "    }\n",
       "\n",
       "    .dataframe tbody tr th {\n",
       "        vertical-align: top;\n",
       "    }\n",
       "\n",
       "    .dataframe thead th {\n",
       "        text-align: right;\n",
       "    }\n",
       "</style>\n",
       "<table border=\"1\" class=\"dataframe\">\n",
       "  <thead>\n",
       "    <tr style=\"text-align: right;\">\n",
       "      <th></th>\n",
       "      <th>establishment_name</th>\n",
       "      <th>year</th>\n",
       "      <th>level_2</th>\n",
       "      <th>0</th>\n",
       "    </tr>\n",
       "  </thead>\n",
       "  <tbody>\n",
       "    <tr>\n",
       "      <td>10</td>\n",
       "      <td>104 WEST 40TH STREET PARTNERS, LLC</td>\n",
       "      <td>2003</td>\n",
       "      <td>naics_code</td>\n",
       "      <td>561210.0</td>\n",
       "    </tr>\n",
       "    <tr>\n",
       "      <td>12</td>\n",
       "      <td>110 GULF ASSOCIATES,</td>\n",
       "      <td>2003</td>\n",
       "      <td>naics_code</td>\n",
       "      <td>531120.0</td>\n",
       "    </tr>\n",
       "    <tr>\n",
       "      <td>28</td>\n",
       "      <td>18TH CENTURY HARDWARE COMPANY, INC.</td>\n",
       "      <td>2003</td>\n",
       "      <td>naics_code</td>\n",
       "      <td>331528.0</td>\n",
       "    </tr>\n",
       "    <tr>\n",
       "      <td>39</td>\n",
       "      <td>21ST CENTURY PREPARATORY SCHOOL</td>\n",
       "      <td>2003</td>\n",
       "      <td>naics_code</td>\n",
       "      <td>611110.0</td>\n",
       "    </tr>\n",
       "    <tr>\n",
       "      <td>55</td>\n",
       "      <td>3-D'S BRIDGE PAINTING CORP.</td>\n",
       "      <td>2003</td>\n",
       "      <td>naics_code</td>\n",
       "      <td>237310.0</td>\n",
       "    </tr>\n",
       "  </tbody>\n",
       "</table>\n",
       "</div>"
      ],
      "text/plain": [
       "                     establishment_name  year     level_2         0\n",
       "10   104 WEST 40TH STREET PARTNERS, LLC  2003  naics_code  561210.0\n",
       "12                 110 GULF ASSOCIATES,  2003  naics_code  531120.0\n",
       "28  18TH CENTURY HARDWARE COMPANY, INC.  2003  naics_code  331528.0\n",
       "39      21ST CENTURY PREPARATORY SCHOOL  2003  naics_code  611110.0\n",
       "55          3-D'S BRIDGE PAINTING CORP.  2003  naics_code  237310.0"
      ]
     },
     "execution_count": 9,
     "metadata": {},
     "output_type": "execute_result"
    }
   ],
   "source": [
    "wp_naics_yr[wp_naics_yr['year']==2003].head()"
   ]
  },
  {
   "cell_type": "markdown",
   "metadata": {},
   "source": [
    "2003 data appears to be in 2007 or 2002 format. 331528 no longer exists in naics 2012 or 2017"
   ]
  },
  {
   "cell_type": "code",
   "execution_count": 10,
   "metadata": {},
   "outputs": [
    {
     "data": {
      "text/html": [
       "<div>\n",
       "<style scoped>\n",
       "    .dataframe tbody tr th:only-of-type {\n",
       "        vertical-align: middle;\n",
       "    }\n",
       "\n",
       "    .dataframe tbody tr th {\n",
       "        vertical-align: top;\n",
       "    }\n",
       "\n",
       "    .dataframe thead th {\n",
       "        text-align: right;\n",
       "    }\n",
       "</style>\n",
       "<table border=\"1\" class=\"dataframe\">\n",
       "  <thead>\n",
       "    <tr style=\"text-align: right;\">\n",
       "      <th></th>\n",
       "      <th>establishment_name</th>\n",
       "      <th>year</th>\n",
       "      <th>level_2</th>\n",
       "      <th>0</th>\n",
       "    </tr>\n",
       "  </thead>\n",
       "  <tbody>\n",
       "  </tbody>\n",
       "</table>\n",
       "</div>"
      ],
      "text/plain": [
       "Empty DataFrame\n",
       "Columns: [establishment_name, year, level_2, 0]\n",
       "Index: []"
      ]
     },
     "execution_count": 10,
     "metadata": {},
     "output_type": "execute_result"
    }
   ],
   "source": [
    "wp_naics_yr[wp_naics_yr[0]==211130].head()"
   ]
  },
  {
   "cell_type": "markdown",
   "metadata": {},
   "source": [
    "No data appears to be in 2017 naics format"
   ]
  },
  {
   "cell_type": "markdown",
   "metadata": {},
   "source": [
    "#### Convert sic codes to naics codes when naics codes aren't available"
   ]
  },
  {
   "cell_type": "markdown",
   "metadata": {},
   "source": [
    "Many sic codes map to more than one possible naics code"
   ]
  },
  {
   "cell_type": "code",
   "execution_count": 11,
   "metadata": {},
   "outputs": [],
   "source": [
    "sic_naics_2002 = pd.read_csv('../data/naics/1987_SIC_to_2002_NAICS.csv', \n",
    "                            dtype={'SIC': str, '2002 NAICS': str},\n",
    "                             na_values = [\"\", \" \", \"0\", \"AUX\", \"Aux\", \"NaN\", \"nan\"])"
   ]
  },
  {
   "cell_type": "code",
   "execution_count": 12,
   "metadata": {
    "scrolled": true
   },
   "outputs": [
    {
     "data": {
      "image/png": "[encoded data removed]",
      "text/plain": [
       "<Figure size 432x288 with 1 Axes>"
      ]
     },
     "metadata": {
      "needs_background": "light"
     },
     "output_type": "display_data"
    }
   ],
   "source": [
    "code_counts = sic_naics_2002.SIC.value_counts()\n",
    "code_counts.hist(grid=False,bins = [1,2,3,4,5,6,7,8,9,10,20,30] )\n",
    "plt.show()"
   ]
  },
  {
   "cell_type": "markdown",
   "metadata": {},
   "source": [
    "We will use a version of the sic-to-naics dataset that has these relationships wildcarded.<br>\n",
    "For example, if 133 maps to either 111930 or 111991, it will be converted to 1119**"
   ]
  },
  {
   "cell_type": "code",
   "execution_count": 4,
   "metadata": {},
   "outputs": [
    {
     "data": {
      "text/plain": [
       "(1265341, 1265341)"
      ]
     },
     "execution_count": 4,
     "metadata": {},
     "output_type": "execute_result"
    }
   ],
   "source": [
    "sic_naics_2002 = pd.read_csv('../data/naics/1987_SIC_to_2002_NAICS_one_to_one.csv', \n",
    "                            dtype={'SIC': str, '2002 NAICS': str},\n",
    "                             na_values = [\"\", \" \", \"0\", \"AUX\", \"Aux\", \"NaN\", \"nan\"])\n",
    "naics_missing = np.where(osha['naics_code'].astype(float) > 1000,0,1)\n",
    "sic = osha['sic_code'].astype(int, errors='ignore').astype(str)\n",
    "naics_from_sic = pd.DataFrame(sic).merge(sic_naics_2002[['SIC', '2002 NAICS']].dropna(), left_on='sic_code',\n",
    "                         right_on='SIC', how='left')\n",
    "len(naics_from_sic), len(osha)"
   ]
  },
  {
   "cell_type": "code",
   "execution_count": 5,
   "metadata": {
    "scrolled": true
   },
   "outputs": [],
   "source": [
    "osha['naics_from_sic'] = np.where(naics_missing, naics_from_sic['2002 NAICS'], osha['naics_code'])"
   ]
  },
  {
   "cell_type": "markdown",
   "metadata": {},
   "source": [
    "### Convert to naics 2017"
   ]
  },
  {
   "cell_type": "code",
   "execution_count": 6,
   "metadata": {},
   "outputs": [],
   "source": [
    "to_2017 = pd.Series(naics_to_2017(osha['naics_from_sic']))"
   ]
  },
  {
   "cell_type": "code",
   "execution_count": 7,
   "metadata": {},
   "outputs": [],
   "source": [
    "osha['naics_unified'] = to_2017"
   ]
  },
  {
   "cell_type": "markdown",
   "metadata": {},
   "source": [
    "### Assign sector names and make data file"
   ]
  },
  {
   "cell_type": "code",
   "execution_count": 8,
   "metadata": {},
   "outputs": [],
   "source": [
    "from functions_utils.naics_definitions import industries, get_naics_subcode, get_naics_industry, get_naics_definition\n",
    "osha['sector'] = osha['naics_unified'].apply(lambda x: get_naics_subcode(x,digits=2) if not pd.isnull(x) else x)\n",
    "osha['sector_name'] = [get_naics_definition(x,2) for x in osha['naics_unified']]\n",
    "osha['subsector_name'] = [get_naics_definition(x,3)  for x in osha['naics_unified']]\n",
    "osha['industry_group_name'] = [get_naics_definition(x,4)  for x in osha['naics_unified']]"
   ]
  },
  {
   "cell_type": "code",
   "execution_count": 9,
   "metadata": {},
   "outputs": [
    {
     "data": {
      "text/html": [
       "<div>\n",
       "<style scoped>\n",
       "    .dataframe tbody tr th:only-of-type {\n",
       "        vertical-align: middle;\n",
       "    }\n",
       "\n",
       "    .dataframe tbody tr th {\n",
       "        vertical-align: top;\n",
       "    }\n",
       "\n",
       "    .dataframe thead th {\n",
       "        text-align: right;\n",
       "    }\n",
       "</style>\n",
       "<table border=\"1\" class=\"dataframe\">\n",
       "  <thead>\n",
       "    <tr style=\"text-align: right;\">\n",
       "      <th></th>\n",
       "      <th>inspection_number</th>\n",
       "      <th>establishment_name</th>\n",
       "      <th>city</th>\n",
       "      <th>state</th>\n",
       "      <th>zip_code</th>\n",
       "      <th>sic_code</th>\n",
       "      <th>naics_code</th>\n",
       "      <th>sampling_number</th>\n",
       "      <th>office_id</th>\n",
       "      <th>date_sampled</th>\n",
       "      <th>...</th>\n",
       "      <th>input</th>\n",
       "      <th>average_mass</th>\n",
       "      <th>preferred_name</th>\n",
       "      <th>conc_mgm3</th>\n",
       "      <th>naics_from_sic</th>\n",
       "      <th>naics_unified</th>\n",
       "      <th>sector</th>\n",
       "      <th>sector_name</th>\n",
       "      <th>subsector_name</th>\n",
       "      <th>industry_group_name</th>\n",
       "    </tr>\n",
       "  </thead>\n",
       "  <tbody>\n",
       "    <tr>\n",
       "      <td>0</td>\n",
       "      <td>111211</td>\n",
       "      <td>CONTROLLED CASTINGS CORP</td>\n",
       "      <td>Plainview</td>\n",
       "      <td>NY</td>\n",
       "      <td>11803.0</td>\n",
       "      <td>3365</td>\n",
       "      <td>0</td>\n",
       "      <td>5.24554e+06</td>\n",
       "      <td>214700.0</td>\n",
       "      <td>1984/05/07 00:00:00</td>\n",
       "      <td>...</td>\n",
       "      <td>Thorium</td>\n",
       "      <td>232.0377</td>\n",
       "      <td>Thorium</td>\n",
       "      <td>0.0005</td>\n",
       "      <td>331524</td>\n",
       "      <td>331524</td>\n",
       "      <td>33</td>\n",
       "      <td>Manufacturing</td>\n",
       "      <td>Primary Metal Manufacturing</td>\n",
       "      <td>Foundries</td>\n",
       "    </tr>\n",
       "    <tr>\n",
       "      <td>1</td>\n",
       "      <td>111211</td>\n",
       "      <td>CONTROLLED CASTINGS CORP</td>\n",
       "      <td>Plainview</td>\n",
       "      <td>NY</td>\n",
       "      <td>11803.0</td>\n",
       "      <td>3365</td>\n",
       "      <td>0</td>\n",
       "      <td>5.2455e+06</td>\n",
       "      <td>214700.0</td>\n",
       "      <td>1984/05/07 00:00:00</td>\n",
       "      <td>...</td>\n",
       "      <td>Thorium</td>\n",
       "      <td>232.0377</td>\n",
       "      <td>Thorium</td>\n",
       "      <td>0.0160</td>\n",
       "      <td>331524</td>\n",
       "      <td>331524</td>\n",
       "      <td>33</td>\n",
       "      <td>Manufacturing</td>\n",
       "      <td>Primary Metal Manufacturing</td>\n",
       "      <td>Foundries</td>\n",
       "    </tr>\n",
       "    <tr>\n",
       "      <td>2</td>\n",
       "      <td>111252</td>\n",
       "      <td>MID ISLAND NON FERROUS FOUNDRY</td>\n",
       "      <td>East Farmingdale</td>\n",
       "      <td>NY</td>\n",
       "      <td>11735.0</td>\n",
       "      <td>3365</td>\n",
       "      <td>0</td>\n",
       "      <td>5.24534e+06</td>\n",
       "      <td>214700.0</td>\n",
       "      <td>1984/04/04 00:00:00</td>\n",
       "      <td>...</td>\n",
       "      <td>Lead, Inorganic (as Pb)</td>\n",
       "      <td>207.2000</td>\n",
       "      <td>Lead</td>\n",
       "      <td>0.0640</td>\n",
       "      <td>331524</td>\n",
       "      <td>331524</td>\n",
       "      <td>33</td>\n",
       "      <td>Manufacturing</td>\n",
       "      <td>Primary Metal Manufacturing</td>\n",
       "      <td>Foundries</td>\n",
       "    </tr>\n",
       "    <tr>\n",
       "      <td>3</td>\n",
       "      <td>114645</td>\n",
       "      <td>TRILECTRON INDUSTRIES INC</td>\n",
       "      <td>Hawthorne</td>\n",
       "      <td>NJ</td>\n",
       "      <td>7506.0</td>\n",
       "      <td>3612</td>\n",
       "      <td>0</td>\n",
       "      <td>5.26995e+06</td>\n",
       "      <td>214500.0</td>\n",
       "      <td>1984/04/16 00:00:00</td>\n",
       "      <td>...</td>\n",
       "      <td>Lead, Inorganic (as Pb)</td>\n",
       "      <td>207.2000</td>\n",
       "      <td>Lead</td>\n",
       "      <td>0.0000</td>\n",
       "      <td>335311</td>\n",
       "      <td>335311</td>\n",
       "      <td>33</td>\n",
       "      <td>Manufacturing</td>\n",
       "      <td>Electrical Equipment, Appliance, and Component...</td>\n",
       "      <td>Electrical Equipment Manufacturing</td>\n",
       "    </tr>\n",
       "    <tr>\n",
       "      <td>4</td>\n",
       "      <td>121590</td>\n",
       "      <td>ALPHA METALS INC</td>\n",
       "      <td>Jersey City</td>\n",
       "      <td>NJ</td>\n",
       "      <td>7304.0</td>\n",
       "      <td>3356</td>\n",
       "      <td>0</td>\n",
       "      <td>5.25176e+06</td>\n",
       "      <td>214200.0</td>\n",
       "      <td>1984/08/16 00:00:00</td>\n",
       "      <td>...</td>\n",
       "      <td>Lead, Inorganic (as Pb)</td>\n",
       "      <td>207.2000</td>\n",
       "      <td>Lead</td>\n",
       "      <td>0.0000</td>\n",
       "      <td>331491</td>\n",
       "      <td>331491</td>\n",
       "      <td>33</td>\n",
       "      <td>Manufacturing</td>\n",
       "      <td>Primary Metal Manufacturing</td>\n",
       "      <td>Nonferrous Metal (except Aluminum) Production ...</td>\n",
       "    </tr>\n",
       "    <tr>\n",
       "      <td>5</td>\n",
       "      <td>121590</td>\n",
       "      <td>ALPHA METALS INC</td>\n",
       "      <td>Jersey City</td>\n",
       "      <td>NJ</td>\n",
       "      <td>7304.0</td>\n",
       "      <td>3356</td>\n",
       "      <td>0</td>\n",
       "      <td>5.25176e+06</td>\n",
       "      <td>214200.0</td>\n",
       "      <td>1984/08/16 00:00:00</td>\n",
       "      <td>...</td>\n",
       "      <td>Lead, Inorganic (as Pb)</td>\n",
       "      <td>207.2000</td>\n",
       "      <td>Lead</td>\n",
       "      <td>0.0000</td>\n",
       "      <td>331491</td>\n",
       "      <td>331491</td>\n",
       "      <td>33</td>\n",
       "      <td>Manufacturing</td>\n",
       "      <td>Primary Metal Manufacturing</td>\n",
       "      <td>Nonferrous Metal (except Aluminum) Production ...</td>\n",
       "    </tr>\n",
       "    <tr>\n",
       "      <td>6</td>\n",
       "      <td>121590</td>\n",
       "      <td>ALPHA METALS INC</td>\n",
       "      <td>Jersey City</td>\n",
       "      <td>NJ</td>\n",
       "      <td>7304.0</td>\n",
       "      <td>3356</td>\n",
       "      <td>0</td>\n",
       "      <td>5.25171e+06</td>\n",
       "      <td>214200.0</td>\n",
       "      <td>1984/05/03 00:00:00</td>\n",
       "      <td>...</td>\n",
       "      <td>Lead, Inorganic (as Pb)</td>\n",
       "      <td>207.2000</td>\n",
       "      <td>Lead</td>\n",
       "      <td>0.0160</td>\n",
       "      <td>331491</td>\n",
       "      <td>331491</td>\n",
       "      <td>33</td>\n",
       "      <td>Manufacturing</td>\n",
       "      <td>Primary Metal Manufacturing</td>\n",
       "      <td>Nonferrous Metal (except Aluminum) Production ...</td>\n",
       "    </tr>\n",
       "    <tr>\n",
       "      <td>7</td>\n",
       "      <td>121590</td>\n",
       "      <td>ALPHA METALS INC</td>\n",
       "      <td>Jersey City</td>\n",
       "      <td>NJ</td>\n",
       "      <td>7304.0</td>\n",
       "      <td>3356</td>\n",
       "      <td>0</td>\n",
       "      <td>5.2517e+06</td>\n",
       "      <td>214200.0</td>\n",
       "      <td>1984/05/03 00:00:00</td>\n",
       "      <td>...</td>\n",
       "      <td>Lead, Inorganic (as Pb)</td>\n",
       "      <td>207.2000</td>\n",
       "      <td>Lead</td>\n",
       "      <td>0.0270</td>\n",
       "      <td>331491</td>\n",
       "      <td>331491</td>\n",
       "      <td>33</td>\n",
       "      <td>Manufacturing</td>\n",
       "      <td>Primary Metal Manufacturing</td>\n",
       "      <td>Nonferrous Metal (except Aluminum) Production ...</td>\n",
       "    </tr>\n",
       "    <tr>\n",
       "      <td>8</td>\n",
       "      <td>121590</td>\n",
       "      <td>ALPHA METALS INC</td>\n",
       "      <td>Jersey City</td>\n",
       "      <td>NJ</td>\n",
       "      <td>7304.0</td>\n",
       "      <td>3356</td>\n",
       "      <td>0</td>\n",
       "      <td>5.25168e+06</td>\n",
       "      <td>214200.0</td>\n",
       "      <td>1984/05/03 00:00:00</td>\n",
       "      <td>...</td>\n",
       "      <td>Lead, Inorganic (as Pb)</td>\n",
       "      <td>207.2000</td>\n",
       "      <td>Lead</td>\n",
       "      <td>0.0170</td>\n",
       "      <td>331491</td>\n",
       "      <td>331491</td>\n",
       "      <td>33</td>\n",
       "      <td>Manufacturing</td>\n",
       "      <td>Primary Metal Manufacturing</td>\n",
       "      <td>Nonferrous Metal (except Aluminum) Production ...</td>\n",
       "    </tr>\n",
       "    <tr>\n",
       "      <td>9</td>\n",
       "      <td>121590</td>\n",
       "      <td>ALPHA METALS INC</td>\n",
       "      <td>Jersey City</td>\n",
       "      <td>NJ</td>\n",
       "      <td>7304.0</td>\n",
       "      <td>3356</td>\n",
       "      <td>0</td>\n",
       "      <td>5.25175e+06</td>\n",
       "      <td>214200.0</td>\n",
       "      <td>1984/05/03 00:00:00</td>\n",
       "      <td>...</td>\n",
       "      <td>Lead, Inorganic (as Pb)</td>\n",
       "      <td>207.2000</td>\n",
       "      <td>Lead</td>\n",
       "      <td>0.0041</td>\n",
       "      <td>331491</td>\n",
       "      <td>331491</td>\n",
       "      <td>33</td>\n",
       "      <td>Manufacturing</td>\n",
       "      <td>Primary Metal Manufacturing</td>\n",
       "      <td>Nonferrous Metal (except Aluminum) Production ...</td>\n",
       "    </tr>\n",
       "  </tbody>\n",
       "</table>\n",
       "<p>10 rows × 35 columns</p>\n",
       "</div>"
      ],
      "text/plain": [
       "  inspection_number              establishment_name              city state  \\\n",
       "0            111211        CONTROLLED CASTINGS CORP         Plainview    NY   \n",
       "1            111211        CONTROLLED CASTINGS CORP         Plainview    NY   \n",
       "2            111252  MID ISLAND NON FERROUS FOUNDRY  East Farmingdale    NY   \n",
       "3            114645       TRILECTRON INDUSTRIES INC         Hawthorne    NJ   \n",
       "4            121590                ALPHA METALS INC       Jersey City    NJ   \n",
       "5            121590                ALPHA METALS INC       Jersey City    NJ   \n",
       "6            121590                ALPHA METALS INC       Jersey City    NJ   \n",
       "7            121590                ALPHA METALS INC       Jersey City    NJ   \n",
       "8            121590                ALPHA METALS INC       Jersey City    NJ   \n",
       "9            121590                ALPHA METALS INC       Jersey City    NJ   \n",
       "\n",
       "   zip_code sic_code naics_code sampling_number  office_id  \\\n",
       "0   11803.0     3365          0     5.24554e+06   214700.0   \n",
       "1   11803.0     3365          0      5.2455e+06   214700.0   \n",
       "2   11735.0     3365          0     5.24534e+06   214700.0   \n",
       "3    7506.0     3612          0     5.26995e+06   214500.0   \n",
       "4    7304.0     3356          0     5.25176e+06   214200.0   \n",
       "5    7304.0     3356          0     5.25176e+06   214200.0   \n",
       "6    7304.0     3356          0     5.25171e+06   214200.0   \n",
       "7    7304.0     3356          0      5.2517e+06   214200.0   \n",
       "8    7304.0     3356          0     5.25168e+06   214200.0   \n",
       "9    7304.0     3356          0     5.25175e+06   214200.0   \n",
       "\n",
       "          date_sampled  ...                    input average_mass  \\\n",
       "0  1984/05/07 00:00:00  ...                  Thorium     232.0377   \n",
       "1  1984/05/07 00:00:00  ...                  Thorium     232.0377   \n",
       "2  1984/04/04 00:00:00  ...  Lead, Inorganic (as Pb)     207.2000   \n",
       "3  1984/04/16 00:00:00  ...  Lead, Inorganic (as Pb)     207.2000   \n",
       "4  1984/08/16 00:00:00  ...  Lead, Inorganic (as Pb)     207.2000   \n",
       "5  1984/08/16 00:00:00  ...  Lead, Inorganic (as Pb)     207.2000   \n",
       "6  1984/05/03 00:00:00  ...  Lead, Inorganic (as Pb)     207.2000   \n",
       "7  1984/05/03 00:00:00  ...  Lead, Inorganic (as Pb)     207.2000   \n",
       "8  1984/05/03 00:00:00  ...  Lead, Inorganic (as Pb)     207.2000   \n",
       "9  1984/05/03 00:00:00  ...  Lead, Inorganic (as Pb)     207.2000   \n",
       "\n",
       "  preferred_name conc_mgm3 naics_from_sic naics_unified sector    sector_name  \\\n",
       "0        Thorium    0.0005         331524        331524     33  Manufacturing   \n",
       "1        Thorium    0.0160         331524        331524     33  Manufacturing   \n",
       "2           Lead    0.0640         331524        331524     33  Manufacturing   \n",
       "3           Lead    0.0000         335311        335311     33  Manufacturing   \n",
       "4           Lead    0.0000         331491        331491     33  Manufacturing   \n",
       "5           Lead    0.0000         331491        331491     33  Manufacturing   \n",
       "6           Lead    0.0160         331491        331491     33  Manufacturing   \n",
       "7           Lead    0.0270         331491        331491     33  Manufacturing   \n",
       "8           Lead    0.0170         331491        331491     33  Manufacturing   \n",
       "9           Lead    0.0041         331491        331491     33  Manufacturing   \n",
       "\n",
       "                                      subsector_name  \\\n",
       "0                        Primary Metal Manufacturing   \n",
       "1                        Primary Metal Manufacturing   \n",
       "2                        Primary Metal Manufacturing   \n",
       "3  Electrical Equipment, Appliance, and Component...   \n",
       "4                        Primary Metal Manufacturing   \n",
       "5                        Primary Metal Manufacturing   \n",
       "6                        Primary Metal Manufacturing   \n",
       "7                        Primary Metal Manufacturing   \n",
       "8                        Primary Metal Manufacturing   \n",
       "9                        Primary Metal Manufacturing   \n",
       "\n",
       "                                 industry_group_name  \n",
       "0                                          Foundries  \n",
       "1                                          Foundries  \n",
       "2                                          Foundries  \n",
       "3                 Electrical Equipment Manufacturing  \n",
       "4  Nonferrous Metal (except Aluminum) Production ...  \n",
       "5  Nonferrous Metal (except Aluminum) Production ...  \n",
       "6  Nonferrous Metal (except Aluminum) Production ...  \n",
       "7  Nonferrous Metal (except Aluminum) Production ...  \n",
       "8  Nonferrous Metal (except Aluminum) Production ...  \n",
       "9  Nonferrous Metal (except Aluminum) Production ...  \n",
       "\n",
       "[10 rows x 35 columns]"
      ]
     },
     "execution_count": 9,
     "metadata": {},
     "output_type": "execute_result"
    }
   ],
   "source": [
    "osha.head(10)"
   ]
  },
  {
   "cell_type": "code",
   "execution_count": 12,
   "metadata": {},
   "outputs": [],
   "source": [
    "osha.to_csv('../data/osha/osha_norm_naics.csv', index=False)"
   ]
  },
  {
   "cell_type": "markdown",
   "metadata": {},
   "source": [
    "Let's take a look at the naics codes that got updated when we converted everything to the 2017 system"
   ]
  },
  {
   "cell_type": "code",
   "execution_count": 11,
   "metadata": {},
   "outputs": [
    {
     "data": {
      "text/plain": [
       "naics_from_sic\n",
       "211111    2111**\n",
       "211112    211130\n",
       "212231    212230\n",
       "212234    212230\n",
       "221119    22111*\n",
       "           ...  \n",
       "722110    722511\n",
       "722210       NaN\n",
       "722211    722513\n",
       "722212    722514\n",
       "722213    722515\n",
       "Name: naics_unified, Length: 192, dtype: object"
      ]
     },
     "execution_count": 11,
     "metadata": {},
     "output_type": "execute_result"
    }
   ],
   "source": [
    "osha[osha['naics_from_sic'].ne(osha['naics_unified'])].groupby('naics_from_sic')['naics_unified'].max()"
   ]
  }
 ],
 "metadata": {
  "kernelspec": {
   "display_name": "Python [conda env:occupation]",
   "language": "python",
   "name": "conda-env-occupation-py"
  },
  "language_info": {
   "codemirror_mode": {
    "name": "ipython",
    "version": 3
   },
   "file_extension": ".py",
   "mimetype": "text/x-python",
   "name": "python",
   "nbconvert_exporter": "python",
   "pygments_lexer": "ipython3",
   "version": "3.7.4"
  }
 },
 "nbformat": 4,
 "nbformat_minor": 2
}
