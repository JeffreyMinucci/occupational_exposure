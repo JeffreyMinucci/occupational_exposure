{
 "cells": [
  {
   "cell_type": "markdown",
   "metadata": {},
   "source": [
    "# Exploring the OSHA chemical monitoring dataset\n",
    "### Author: Jeff Minucci\n",
    "### Date: 9/9/2019"
   ]
  },
  {
   "cell_type": "code",
   "execution_count": 125,
   "metadata": {},
   "outputs": [
    {
     "name": "stdout",
     "output_type": "stream",
     "text": [
      "Using matplotlib backend: Qt5Agg\n"
     ]
    }
   ],
   "source": [
    "%matplotlib\n",
    "import numpy as np\n",
    "import pandas as pd\n",
    "import matplotlib.pyplot as plt\n",
    "import zipfile\n",
    "from tabulate import tabulate\n",
    "from numba import jit\n",
    "%matplotlib inline"
   ]
  },
  {
   "cell_type": "markdown",
   "metadata": {},
   "source": [
    "### Load the dataset"
   ]
  },
  {
   "cell_type": "code",
   "execution_count": 156,
   "metadata": {},
   "outputs": [
    {
     "name": "stderr",
     "output_type": "stream",
     "text": [
      "/home/jminucci/anaconda3/envs/occupation/lib/python3.7/site-packages/IPython/core/interactiveshell.py:3058: DtypeWarning: Columns (1,8,12,13,19) have mixed types. Specify dtype option on import or set low_memory=False.\n",
      "  interactivity=interactivity, compiler=compiler, result=result)\n"
     ]
    }
   ],
   "source": [
    "if not 'data/osha/osha_monitoring_1984_2018.csv':\n",
    "    with zipfile.ZipFile('data/osha/osha_monitoring_1984_2018.zip','r') as zfile:\n",
    "        zfile.extractall('data/osha')\n",
    "osha = pd.read_csv('data/osha/osha_monitoring_1984_2018.csv')"
   ]
  },
  {
   "cell_type": "markdown",
   "metadata": {},
   "source": [
    "### Load data on physio-chemical properties and molecular fingerprints of the chemicals sampled"
   ]
  },
  {
   "cell_type": "code",
   "execution_count": 157,
   "metadata": {},
   "outputs": [],
   "source": [
    "chem_data = pd.read_csv('data/osha/osha_chem_properties.csv')\n",
    "chem_data[chem_data.columns[8:]] = chem_data[chem_data.columns[8:]].apply(pd.to_numeric,errors='coerce')\n",
    "chem_data.columns = [x.lower() for x in chem_data.columns]"
   ]
  },
  {
   "cell_type": "markdown",
   "metadata": {},
   "source": [
    "### Clean and organize the data"
   ]
  },
  {
   "cell_type": "code",
   "execution_count": 159,
   "metadata": {},
   "outputs": [
    {
     "name": "stderr",
     "output_type": "stream",
     "text": [
      "/home/jminucci/anaconda3/envs/occupation/lib/python3.7/site-packages/pandas/core/ops/__init__.py:1115: FutureWarning: elementwise comparison failed; returning scalar instead, but in the future will perform elementwise comparison\n",
      "  result = method(y)\n"
     ]
    }
   ],
   "source": [
    "osha.drop(osha.columns[0], axis=1, inplace=True)  # drop first column of old indices\n",
    "osha['imis_substance_code'] = osha['imis_substance_code'].astype('category')\n",
    "osha['sample_result'] = pd.to_numeric(osha['sample_result'], errors='coerce')\n",
    "osha['air_volume_sampled'] = pd.to_numeric(osha['air_volume_sampled'], errors='coerce')\n",
    "\n",
    "# keep only samples with units of concentration, or that we can convert to concentrations\n",
    "osha = osha[osha['unit_of_measurement'].isin(['M', 'P', \"%\"]) | ((osha['unit_of_measurement'].isin(['X', 'Y'])) & osha['air_volume_sampled']>0)]\n",
    "\n",
    "# keep only  sample types P=personal, A=area, B=bulk\n",
    "osha = osha[osha['sample_type'].isin(['P','A', 'B'])]\n",
    "\n",
    "# add average mol mass of the substances\n",
    "osha = osha.merge(chem_data[['input', 'average_mass', 'preferred_name']], left_on='substance', right_on='input')\n",
    "osha = osha[osha['preferred_name'] != '-']\n",
    "\n",
    "#drop rows with measurements that are NaN or Inf\n",
    "osha = osha[np.isfinite(osha.sample_result)]"
   ]
  },
  {
   "cell_type": "code",
   "execution_count": 161,
   "metadata": {},
   "outputs": [
    {
     "data": {
      "text/plain": [
       "1309640"
      ]
     },
     "execution_count": 161,
     "metadata": {},
     "output_type": "execute_result"
    }
   ],
   "source": [
    "len(osha)"
   ]
  },
  {
   "cell_type": "markdown",
   "metadata": {},
   "source": [
    "Convert all units to mg/m3"
   ]
  },
  {
   "cell_type": "code",
   "execution_count": 162,
   "metadata": {},
   "outputs": [],
   "source": [
    "# convert all units to mg/m3\n",
    "@jit(parallel=True, forceobj=True)\n",
    "def convert_mg_m3(result, units, air_vol, mol_wt):\n",
    "    n = len(result)\n",
    "    concentrations = np.empty(n)\n",
    "    for i in range(n):\n",
    "        unit = units[i]\n",
    "        x = result[i]\n",
    "        vol = air_vol[i]\n",
    "        mw = mol_wt[i]\n",
    "        if unit == 'Y': # mg\n",
    "            val = x/(vol*0.001)\n",
    "        elif unit == 'X': # mcg\n",
    "            val = (x/1000)/(vol*0.001)\n",
    "        elif unit == '%': # percent\n",
    "            val = (x*10000) * mw/24.45  # based on 25C and 1 atm\n",
    "        elif unit == 'P':  \n",
    "            val = x * mw/24.45  # based on 25C and 1 atm\n",
    "        else:\n",
    "            val = x\n",
    "        concentrations[i] = val\n",
    "    return concentrations\n",
    "\n",
    "osha['conc_mgm3'] = convert_mg_m3(osha['sample_result'].to_numpy(), osha['unit_of_measurement'].to_numpy(dtype=str),\n",
    "                                  osha['air_volume_sampled'].to_numpy(), osha['average_mass'].to_numpy())\n",
    "#write unit converted dataset to file\n",
    "#osha.to_csv('data/osha/osha_normalized.csv')"
   ]
  },
  {
   "cell_type": "markdown",
   "metadata": {},
   "source": [
    "### How many substances are in the raw OSHA monitoring dataset?"
   ]
  },
  {
   "cell_type": "code",
   "execution_count": 163,
   "metadata": {},
   "outputs": [
    {
     "data": {
      "text/plain": [
       "count     1309640\n",
       "unique        932\n",
       "top          Lead\n",
       "freq       120312\n",
       "Name: preferred_name, dtype: object"
      ]
     },
     "execution_count": 163,
     "metadata": {},
     "output_type": "execute_result"
    }
   ],
   "source": [
    "osha.preferred_name.describe()"
   ]
  },
  {
   "cell_type": "code",
   "execution_count": 164,
   "metadata": {},
   "outputs": [
    {
     "name": "stdout",
     "output_type": "stream",
     "text": [
      "+----------------------+---------------------+\n",
      "|   Num of occurrences |   Num of substances |\n",
      "|----------------------+---------------------|\n",
      "|                    2 |                 898 |\n",
      "|                   10 |                 598 |\n",
      "|                   50 |                 350 |\n",
      "|                  100 |                 257 |\n",
      "|                  500 |                 129 |\n",
      "|                 1000 |                  91 |\n",
      "|                 5000 |                  36 |\n",
      "|                10000 |                  23 |\n",
      "+----------------------+---------------------+\n"
     ]
    }
   ],
   "source": [
    "thresholds = [2,10,50,100,500,1000, 5000, 10000]\n",
    "counts = []\n",
    "sub_counts = osha.imis_substance_code.value_counts()\n",
    "for x in thresholds:\n",
    "    counts.append(len(sub_counts[sub_counts >= x]))\n",
    "print(tabulate({'Num of occurrences':thresholds, 'Num of substances':counts}, headers = 'keys', tablefmt='psql'))"
   ]
  },
  {
   "cell_type": "code",
   "execution_count": 165,
   "metadata": {},
   "outputs": [
    {
     "data": {
      "image/png": "[encoded data removed]",
      "text/plain": [
       "<Figure size 432x288 with 1 Axes>"
      ]
     },
     "metadata": {
      "needs_background": "light"
     },
     "output_type": "display_data"
    },
    {
     "data": {
      "image/png": "[encoded data removed]",
      "text/plain": [
       "<Figure size 432x288 with 1 Axes>"
      ]
     },
     "metadata": {
      "needs_background": "light"
     },
     "output_type": "display_data"
    },
    {
     "name": "stdout",
     "output_type": "stream",
     "text": [
      "Median # of occurrences in osha monitoring: 10\n"
     ]
    }
   ],
   "source": [
    "sub_counts[sub_counts < 5000].hist(grid=False)\n",
    "plt.show()\n",
    "sub_counts[sub_counts < 200].hist(grid=False)\n",
    "plt.show()\n",
    "print('Median # of occurrences in osha monitoring: {:.0f}'.format(np.median(sub_counts)))"
   ]
  },
  {
   "cell_type": "markdown",
   "metadata": {},
   "source": [
    "### Let's aggregate by the average detected concentration for each chemical and match to chemical properties"
   ]
  },
  {
   "cell_type": "markdown",
   "metadata": {},
   "source": [
    "Aggregate mean concentrations by substance, also grouping by sampling #"
   ]
  },
  {
   "cell_type": "code",
   "execution_count": 172,
   "metadata": {},
   "outputs": [],
   "source": [
    "osha_agg = osha.groupby(['sampling_number','preferred_name']).mean().groupby('preferred_name').mean().reset_index()[['preferred_name','conc_mgm3']]"
   ]
  },
  {
   "cell_type": "code",
   "execution_count": 173,
   "metadata": {},
   "outputs": [
    {
     "name": "stdout",
     "output_type": "stream",
     "text": [
      "929 909\n"
     ]
    }
   ],
   "source": [
    "print(len(osha_agg),len(osha_agg[np.isfinite(osha_agg.conc_mgm3)]))\n",
    "osha_agg = osha_agg[np.isfinite(osha_agg.conc_mgm3)]"
   ]
  },
  {
   "cell_type": "markdown",
   "metadata": {},
   "source": [
    "Merge our data on physio-chemical properties and molecular fingerprints"
   ]
  },
  {
   "cell_type": "code",
   "execution_count": 176,
   "metadata": {},
   "outputs": [],
   "source": [
    "osha_agg = osha_agg.merge(chem_data[chem_data.columns.difference(['average_mass','input','found_by','found_by_search'])], \n",
    "                          left_on='preferred_name', right_on='preferred_name')\n",
    "osha_agg = osha_agg.drop_duplicates()\n",
    "#osha_agg.to_csv('data/osha/osha_means.csv')"
   ]
  },
  {
   "cell_type": "code",
   "execution_count": 89,
   "metadata": {},
   "outputs": [],
   "source": [
    "#osha = osha.merge(chem_data[chem_data.columns.difference(['average_mass'])], left_on='substance', right_on='input')\n",
    "#osha.to_csv('data/osha/osha_add_features.csv')"
   ]
  },
  {
   "cell_type": "markdown",
   "metadata": {},
   "source": [
    "### Also make a dataset where we use the max concentration from each sampling effort"
   ]
  },
  {
   "cell_type": "code",
   "execution_count": null,
   "metadata": {},
   "outputs": [],
   "source": [
    "osha_agg_max = osha.groupby(['sampling_number','preferred_name']).max().groupby('preferred_name').mean().reset_index()[['preferred_name','conc_mgm3']]\n",
    "osha_agg_max = osha_agg[np.isfinite(osha_agg.conc_mgm3)]"
   ]
  },
  {
   "cell_type": "code",
   "execution_count": null,
   "metadata": {},
   "outputs": [],
   "source": [
    "osha_agg = osha_agg.merge(chem_data[chem_data.columns.difference(['average_mass','input','found_by','found_by_search'])], \n",
    "                          left_on='preferred_name', right_on='preferred_name')\n",
    "osha_agg = osha_agg.drop_duplicates()\n",
    "osha_agg.to_csv('data/osha/osha_mean_peak.csv')"
   ]
  }
 ],
 "metadata": {
  "kernelspec": {
   "display_name": "Python [conda env:occupation]",
   "language": "python",
   "name": "conda-env-occupation-py"
  },
  "language_info": {
   "codemirror_mode": {
    "name": "ipython",
    "version": 3
   },
   "file_extension": ".py",
   "mimetype": "text/x-python",
   "name": "python",
   "nbconvert_exporter": "python",
   "pygments_lexer": "ipython3",
   "version": "3.7.4"
  }
 },
 "nbformat": 4,
 "nbformat_minor": 2
}
