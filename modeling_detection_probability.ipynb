{
 "cells": [
  {
   "cell_type": "markdown",
   "metadata": {},
   "source": [
    "# Predicting probability of detection in the workplace using chemical properties\n",
    "#### By: Jeff Minucci"
   ]
  },
  {
   "cell_type": "markdown",
   "metadata": {},
   "source": [
    "### Load required packages"
   ]
  },
  {
   "cell_type": "code",
   "execution_count": 126,
   "metadata": {},
   "outputs": [],
   "source": [
    "import numpy as np\n",
    "import pandas as pd\n",
    "import matplotlib.pyplot as plt\n",
    "import os\n",
    "from sklearn.linear_model import Lasso, LassoCV, LinearRegression\n",
    "from sklearn.model_selection import KFold, GridSearchCV, train_test_split\n",
    "from sklearn.ensemble import RandomForestRegressor\n",
    "from sklearn.metrics import r2_score\n",
    "from scipy.stats import boxcox\n",
    "from scipy.special import logit\n",
    "\n",
    "%matplotlib inline"
   ]
  },
  {
   "cell_type": "markdown",
   "metadata": {},
   "source": [
    "### Load the dataset of osha mean concentrations detected at work"
   ]
  },
  {
   "cell_type": "code",
   "execution_count": 137,
   "metadata": {},
   "outputs": [],
   "source": [
    "osha = pd.read_csv('data/osha/osha_probs_inspection.csv')\n",
    "osha = osha[osha.columns[1:]]\n",
    "osha = osha.drop(columns=['casrn', 'dtxsid', 'inchikey', 'iupac_name'])\n",
    "osha = osha.dropna(axis=0)\n",
    "toxprint_cols = [col for col in osha.columns if ':' in col]\n",
    "osha[toxprint_cols] = osha[toxprint_cols].astype(int)"
   ]
  },
  {
   "cell_type": "markdown",
   "metadata": {},
   "source": [
    "### Look at distribution of mean workplace exposure"
   ]
  },
  {
   "cell_type": "code",
   "execution_count": 138,
   "metadata": {},
   "outputs": [
    {
     "data": {
      "text/plain": [
       "count    721.000000\n",
       "mean       0.442461\n",
       "std        0.372386\n",
       "min        0.000000\n",
       "25%        0.000000\n",
       "50%        0.413793\n",
       "75%        0.760000\n",
       "max        1.000000\n",
       "Name: prob_detection, dtype: float64"
      ]
     },
     "execution_count": 138,
     "metadata": {},
     "output_type": "execute_result"
    }
   ],
   "source": [
    "osha['prob_detection'].describe()"
   ]
  },
  {
   "cell_type": "code",
   "execution_count": 139,
   "metadata": {
    "scrolled": true
   },
   "outputs": [
    {
     "data": {
      "text/plain": [
       "(array([212.,  26.,  49.,  62.,  35.,  89.,  39.,  39.,  29., 141.]),\n",
       " array([0. , 0.1, 0.2, 0.3, 0.4, 0.5, 0.6, 0.7, 0.8, 0.9, 1. ]),\n",
       " <a list of 10 Patch objects>)"
      ]
     },
     "execution_count": 139,
     "metadata": {},
     "output_type": "execute_result"
    },
    {
     "data": {
      "image/png": "[encoded data removed]",
      "text/plain": [
       "<Figure size 432x288 with 1 Axes>"
      ]
     },
     "metadata": {
      "needs_background": "light"
     },
     "output_type": "display_data"
    }
   ],
   "source": [
    "plt.hist(osha['prob_detection'])"
   ]
  },
  {
   "cell_type": "markdown",
   "metadata": {},
   "source": [
    "### Logit transform of response probabilities"
   ]
  },
  {
   "cell_type": "code",
   "execution_count": 140,
   "metadata": {},
   "outputs": [],
   "source": [
    "probs = osha['prob_detection']\n",
    "probs = np.where(probs == 0, probs+0.01, probs)\n",
    "probs = np.where(probs == 1, probs-0.01, probs)\n",
    "osha['logit_prob'] = logit(probs)"
   ]
  },
  {
   "cell_type": "code",
   "execution_count": 141,
   "metadata": {
    "scrolled": true
   },
   "outputs": [
    {
     "data": {
      "text/plain": [
       "(array([198.,   3.,  17.,  58., 107., 129.,  61.,   9.,   1., 138.]),\n",
       " array([-4.73619845, -3.80306662, -2.86993479, -1.93680296, -1.00367113,\n",
       "        -0.0705393 ,  0.86259253,  1.79572436,  2.72885619,  3.66198802,\n",
       "         4.59511985]),\n",
       " <a list of 10 Patch objects>)"
      ]
     },
     "execution_count": 141,
     "metadata": {},
     "output_type": "execute_result"
    },
    {
     "data": {
      "image/png": "[encoded data removed]",
      "text/plain": [
       "<Figure size 432x288 with 1 Axes>"
      ]
     },
     "metadata": {
      "needs_background": "light"
     },
     "output_type": "display_data"
    }
   ],
   "source": [
    "plt.hist(osha['logit_prob'])"
   ]
  },
  {
   "cell_type": "markdown",
   "metadata": {},
   "source": [
    "### Filter out features that never occur in our chemical dataset "
   ]
  },
  {
   "cell_type": "code",
   "execution_count": 142,
   "metadata": {},
   "outputs": [],
   "source": [
    "from sklearn.feature_selection import VarianceThreshold\n",
    "osha = osha.loc[:, (osha ).any(axis=0)].copy()"
   ]
  },
  {
   "cell_type": "markdown",
   "metadata": {},
   "source": [
    "### Split into a test and training dataset"
   ]
  },
  {
   "cell_type": "code",
   "execution_count": 143,
   "metadata": {},
   "outputs": [],
   "source": [
    "y = osha.logit_prob\n",
    "x = osha.drop(['prob_detection', 'logit_prob','preferred_name'],axis=1)\n",
    "x_train_all,x_test_all,y_train_all,y_test_all=train_test_split(x,y,test_size=0.2, random_state = 2344)\n",
    "\n",
    "# filter out low variance features, but keep full features as x_f for comparison\n",
    "from sklearn.feature_selection import VarianceThreshold\n",
    "var_filter = VarianceThreshold(threshold=0.1)\n",
    "var_filter.fit(x)\n",
    "x_f = x.loc[:,var_filter.get_support()]\n",
    "x_train,x_test,y_train,y_test=train_test_split(x_f,y,test_size=0.2, random_state=234)\n",
    "\n",
    "feature_list = list(x_f.columns)\n",
    "feature_list_all = list(x.columns)"
   ]
  },
  {
   "cell_type": "markdown",
   "metadata": {},
   "source": [
    "### Shape of full dataset"
   ]
  },
  {
   "cell_type": "code",
   "execution_count": 144,
   "metadata": {
    "scrolled": false
   },
   "outputs": [
    {
     "name": "stdout",
     "output_type": "stream",
     "text": [
      "Training Features Shape: (576, 393)\n",
      "Training Labels Shape: (576,)\n",
      "Testing Features Shape: (145, 393)\n",
      "Testing Labels Shape: (145,)\n"
     ]
    }
   ],
   "source": [
    "print('Training Features Shape:', x_train_all.shape)\n",
    "print('Training Labels Shape:', y_train_all.shape)\n",
    "print('Testing Features Shape:', x_test_all.shape)\n",
    "print('Testing Labels Shape:', y_test_all.shape)"
   ]
  },
  {
   "cell_type": "markdown",
   "metadata": {},
   "source": [
    "### Linear regression for a quick baseline"
   ]
  },
  {
   "cell_type": "code",
   "execution_count": 176,
   "metadata": {},
   "outputs": [
    {
     "data": {
      "text/plain": [
       "0.576613064880834"
      ]
     },
     "execution_count": 176,
     "metadata": {},
     "output_type": "execute_result"
    }
   ],
   "source": [
    "lm = LinearRegression().fit(x_train_all, y_train_all)\n",
    "lm.score(x_train_all, y_train_all)"
   ]
  },
  {
   "cell_type": "code",
   "execution_count": 178,
   "metadata": {},
   "outputs": [
    {
     "data": {
      "text/plain": [
       "-1.449902603501863"
      ]
     },
     "execution_count": 178,
     "metadata": {},
     "output_type": "execute_result"
    }
   ],
   "source": [
    "lm.score(x_test_all, y_test_all)"
   ]
  },
  {
   "cell_type": "code",
   "execution_count": 147,
   "metadata": {},
   "outputs": [],
   "source": [
    "def plot_fit(predicted, y):\n",
    "    fig, ax = plt.subplots()\n",
    "    ax.scatter(y, predicted)\n",
    "    ax.plot([y.min(), y.max()], [y.min(), y.max()], 'k--', lw=4)\n",
    "    ax.set_xlabel('Measured log odds of detection')\n",
    "    ax.set_ylabel('Predicted log odds of detection')\n",
    "    plt.show()"
   ]
  },
  {
   "cell_type": "code",
   "execution_count": 148,
   "metadata": {
    "scrolled": true
   },
   "outputs": [
    {
     "data": {
      "image/png": "[encoded data removed]",
      "text/plain": [
       "<Figure size 432x288 with 1 Axes>"
      ]
     },
     "metadata": {
      "needs_background": "light"
     },
     "output_type": "display_data"
    }
   ],
   "source": [
    "predictions = lm.predict(x_test_all)\n",
    "plot_fit(predictions, y_test_all)"
   ]
  },
  {
   "cell_type": "code",
   "execution_count": 181,
   "metadata": {},
   "outputs": [
    {
     "data": {
      "image/png": "[encoded data removed]",
      "text/plain": [
       "<Figure size 432x288 with 1 Axes>"
      ]
     },
     "metadata": {
      "needs_background": "light"
     },
     "output_type": "display_data"
    }
   ],
   "source": [
    "predictions = lm.predict(x_train_all)\n",
    "plot_fit(predictions, y_train_all)"
   ]
  },
  {
   "cell_type": "markdown",
   "metadata": {},
   "source": [
    "### Lasso regression for automated feature selection"
   ]
  },
  {
   "cell_type": "code",
   "execution_count": 149,
   "metadata": {},
   "outputs": [
    {
     "data": {
      "text/plain": [
       "0.0023404266632059967"
      ]
     },
     "execution_count": 149,
     "metadata": {},
     "output_type": "execute_result"
    }
   ],
   "source": [
    "lassocv = LassoCV(cv=5,random_state=11).fit(x_train_all, y_train_all)\n",
    "lassocv.score(x_train_all, y_train_all)"
   ]
  },
  {
   "cell_type": "code",
   "execution_count": 150,
   "metadata": {
    "scrolled": false
   },
   "outputs": [
    {
     "data": {
      "text/plain": [
       "-0.0019768970078040127"
      ]
     },
     "execution_count": 150,
     "metadata": {},
     "output_type": "execute_result"
    }
   ],
   "source": [
    "lassocv.score(x_test_all, y_test_all)"
   ]
  },
  {
   "cell_type": "code",
   "execution_count": 151,
   "metadata": {},
   "outputs": [
    {
     "data": {
      "image/png": "[encoded data removed]",
      "text/plain": [
       "<Figure size 432x288 with 1 Axes>"
      ]
     },
     "metadata": {
      "needs_background": "light"
     },
     "output_type": "display_data"
    }
   ],
   "source": [
    "predictions = lassocv.predict(x_test_all)\n",
    "plot_fit(predictions, y_test_all)"
   ]
  },
  {
   "cell_type": "code",
   "execution_count": 152,
   "metadata": {},
   "outputs": [
    {
     "data": {
      "text/plain": [
       "[('soil_adsorption_coefficient_koc_l/kg_opera_pred', -9.619696087094461e-07)]"
      ]
     },
     "execution_count": 152,
     "metadata": {},
     "output_type": "execute_result"
    }
   ],
   "source": [
    "[(feature_list_all[i], coef) for i, coef in enumerate(lassocv.coef_) if (~np.isclose(coef,0))]"
   ]
  },
  {
   "cell_type": "markdown",
   "metadata": {},
   "source": [
    "### Random Forest Regressor"
   ]
  },
  {
   "cell_type": "code",
   "execution_count": 153,
   "metadata": {
    "scrolled": false
   },
   "outputs": [
    {
     "data": {
      "text/plain": [
       "GridSearchCV(cv=5, error_score='raise-deprecating',\n",
       "             estimator=RandomForestRegressor(bootstrap=True, criterion='mse',\n",
       "                                             max_depth=None,\n",
       "                                             max_features='auto',\n",
       "                                             max_leaf_nodes=None,\n",
       "                                             min_impurity_decrease=0.0,\n",
       "                                             min_impurity_split=None,\n",
       "                                             min_samples_leaf=1,\n",
       "                                             min_samples_split=2,\n",
       "                                             min_weight_fraction_leaf=0.0,\n",
       "                                             n_estimators='warn', n_jobs=None,\n",
       "                                             oob_score=False, random_state=None,\n",
       "                                             verbose=0, warm_start=False),\n",
       "             iid='warn', n_jobs=30,\n",
       "             param_grid={'n_estimators': [1500, 3000, 4500, 6000, 7500]},\n",
       "             pre_dispatch='2*n_jobs', refit=True, return_train_score=False,\n",
       "             scoring=None, verbose=0)"
      ]
     },
     "execution_count": 153,
     "metadata": {},
     "output_type": "execute_result"
    }
   ],
   "source": [
    "param_grid = {'n_estimators': [1500, 3000, 4500, 6000, 7500]}\n",
    "grid_rf = GridSearchCV(RandomForestRegressor(), param_grid, cv=5, n_jobs=30)\n",
    "grid_rf.fit(x_train_all, y_train_all)"
   ]
  },
  {
   "cell_type": "code",
   "execution_count": 154,
   "metadata": {},
   "outputs": [
    {
     "data": {
      "text/plain": [
       "{'n_estimators': 6000}"
      ]
     },
     "execution_count": 154,
     "metadata": {},
     "output_type": "execute_result"
    }
   ],
   "source": [
    "grid_rf.best_params_"
   ]
  },
  {
   "cell_type": "code",
   "execution_count": 155,
   "metadata": {
    "scrolled": true
   },
   "outputs": [
    {
     "name": "stdout",
     "output_type": "stream",
     "text": [
      "Mean Absolute Error: 2.33 \n",
      "R2: 0.10193212564959253\n"
     ]
    }
   ],
   "source": [
    "best_rf = grid_rf.best_estimator_\n",
    "predictions = best_rf.predict(x_test_all)\n",
    "errors = abs(predictions - y_test_all)\n",
    "print('Mean Absolute Error:', round(np.mean(errors), 2), '')\n",
    "print('R2:', r2_score(y_test_all, predictions))"
   ]
  },
  {
   "cell_type": "code",
   "execution_count": 156,
   "metadata": {
    "scrolled": true
   },
   "outputs": [
    {
     "data": {
      "image/png": "[encoded data removed]",
      "text/plain": [
       "<Figure size 432x288 with 1 Axes>"
      ]
     },
     "metadata": {
      "needs_background": "light"
     },
     "output_type": "display_data"
    }
   ],
   "source": [
    "plot_fit(predictions, y_test)"
   ]
  },
  {
   "cell_type": "code",
   "execution_count": 157,
   "metadata": {},
   "outputs": [
    {
     "data": {
      "text/html": [
       "<div>\n",
       "<style scoped>\n",
       "    .dataframe tbody tr th:only-of-type {\n",
       "        vertical-align: middle;\n",
       "    }\n",
       "\n",
       "    .dataframe tbody tr th {\n",
       "        vertical-align: top;\n",
       "    }\n",
       "\n",
       "    .dataframe thead th {\n",
       "        text-align: right;\n",
       "    }\n",
       "</style>\n",
       "<table border=\"1\" class=\"dataframe\">\n",
       "  <thead>\n",
       "    <tr style=\"text-align: right;\">\n",
       "      <th></th>\n",
       "      <th>importance</th>\n",
       "    </tr>\n",
       "  </thead>\n",
       "  <tbody>\n",
       "    <tr>\n",
       "      <td>melting_point_degc_opera_pred</td>\n",
       "      <td>0.082120</td>\n",
       "    </tr>\n",
       "    <tr>\n",
       "      <td>biodegradation_half_life_days_days_opera_pred</td>\n",
       "      <td>0.073718</td>\n",
       "    </tr>\n",
       "    <tr>\n",
       "      <td>monoisotopic_mass</td>\n",
       "      <td>0.068485</td>\n",
       "    </tr>\n",
       "    <tr>\n",
       "      <td>opera_km_days_opera_pred</td>\n",
       "      <td>0.060247</td>\n",
       "    </tr>\n",
       "    <tr>\n",
       "      <td>bioconcentration_factor_opera_pred</td>\n",
       "      <td>0.057913</td>\n",
       "    </tr>\n",
       "    <tr>\n",
       "      <td>soil_adsorption_coefficient_koc_l/kg_opera_pred</td>\n",
       "      <td>0.055174</td>\n",
       "    </tr>\n",
       "    <tr>\n",
       "      <td>water_solubility_mol/l_opera_pred</td>\n",
       "      <td>0.054295</td>\n",
       "    </tr>\n",
       "    <tr>\n",
       "      <td>octanol_air_partition_coeff_logkoa_opera_pred</td>\n",
       "      <td>0.052540</td>\n",
       "    </tr>\n",
       "    <tr>\n",
       "      <td>octanol_water_partition_logp_opera_pred</td>\n",
       "      <td>0.051268</td>\n",
       "    </tr>\n",
       "    <tr>\n",
       "      <td>boiling_point_degc_opera_pred</td>\n",
       "      <td>0.046699</td>\n",
       "    </tr>\n",
       "    <tr>\n",
       "      <td>henrys_law_atm-m3/mole_opera_pred</td>\n",
       "      <td>0.043366</td>\n",
       "    </tr>\n",
       "    <tr>\n",
       "      <td>vapor_pressure_mmhg_opera_pred</td>\n",
       "      <td>0.039913</td>\n",
       "    </tr>\n",
       "    <tr>\n",
       "      <td>ring:hetero_[6]_n_triazine_generic</td>\n",
       "      <td>0.007964</td>\n",
       "    </tr>\n",
       "    <tr>\n",
       "      <td>chain:aromaticalkane_ph-c1_acyclic_generic</td>\n",
       "      <td>0.007643</td>\n",
       "    </tr>\n",
       "    <tr>\n",
       "      <td>bond:c=o_carbonyl_generic</td>\n",
       "      <td>0.005648</td>\n",
       "    </tr>\n",
       "    <tr>\n",
       "      <td>bond:cn_amine_aliphatic_generic</td>\n",
       "      <td>0.005020</td>\n",
       "    </tr>\n",
       "    <tr>\n",
       "      <td>chain:aromaticalkene_ph-c2_acyclic_generic</td>\n",
       "      <td>0.004713</td>\n",
       "    </tr>\n",
       "    <tr>\n",
       "      <td>bond:c(=o)o_carboxylicester_alkyl</td>\n",
       "      <td>0.004705</td>\n",
       "    </tr>\n",
       "    <tr>\n",
       "      <td>bond:x[any]_halide</td>\n",
       "      <td>0.004480</td>\n",
       "    </tr>\n",
       "    <tr>\n",
       "      <td>chain:alkanebranch_isopropyl_c3</td>\n",
       "      <td>0.004429</td>\n",
       "    </tr>\n",
       "  </tbody>\n",
       "</table>\n",
       "</div>"
      ],
      "text/plain": [
       "                                                 importance\n",
       "melting_point_degc_opera_pred                      0.082120\n",
       "biodegradation_half_life_days_days_opera_pred      0.073718\n",
       "monoisotopic_mass                                  0.068485\n",
       "opera_km_days_opera_pred                           0.060247\n",
       "bioconcentration_factor_opera_pred                 0.057913\n",
       "soil_adsorption_coefficient_koc_l/kg_opera_pred    0.055174\n",
       "water_solubility_mol/l_opera_pred                  0.054295\n",
       "octanol_air_partition_coeff_logkoa_opera_pred      0.052540\n",
       "octanol_water_partition_logp_opera_pred            0.051268\n",
       "boiling_point_degc_opera_pred                      0.046699\n",
       "henrys_law_atm-m3/mole_opera_pred                  0.043366\n",
       "vapor_pressure_mmhg_opera_pred                     0.039913\n",
       "ring:hetero_[6]_n_triazine_generic                 0.007964\n",
       "chain:aromaticalkane_ph-c1_acyclic_generic         0.007643\n",
       "bond:c=o_carbonyl_generic                          0.005648\n",
       "bond:cn_amine_aliphatic_generic                    0.005020\n",
       "chain:aromaticalkene_ph-c2_acyclic_generic         0.004713\n",
       "bond:c(=o)o_carboxylicester_alkyl                  0.004705\n",
       "bond:x[any]_halide                                 0.004480\n",
       "chain:alkanebranch_isopropyl_c3                    0.004429"
      ]
     },
     "execution_count": 157,
     "metadata": {},
     "output_type": "execute_result"
    }
   ],
   "source": [
    "feature_importances = pd.DataFrame(best_rf.feature_importances_,\n",
    "                                   index = feature_list_all,\n",
    "                                    columns=['importance']).sort_values('importance',ascending=False)\n",
    "feature_importances.head(20)"
   ]
  },
  {
   "cell_type": "markdown",
   "metadata": {},
   "source": [
    "### Let's try a multi-layer perceptron for fun"
   ]
  },
  {
   "cell_type": "code",
   "execution_count": 158,
   "metadata": {},
   "outputs": [],
   "source": [
    "from sklearn.preprocessing import StandardScaler\n",
    "\n",
    "scaler = StandardScaler()\n",
    "scaler.fit(x_train_all)\n",
    "StandardScaler(copy=True, with_mean=True, with_std=True)\n",
    "x_train_scaled = scaler.transform(x_train_all)\n",
    "x_test_scaled = scaler.transform(x_test_all)"
   ]
  },
  {
   "cell_type": "code",
   "execution_count": 171,
   "metadata": {},
   "outputs": [
    {
     "data": {
      "text/plain": [
       "MLPRegressor(activation='relu', alpha=0.0001, batch_size='auto', beta_1=0.9,\n",
       "             beta_2=0.999, early_stopping=False, epsilon=1e-08,\n",
       "             hidden_layer_sizes=(400, 200), learning_rate='adaptive',\n",
       "             learning_rate_init=0.001, max_iter=10000, momentum=0.9,\n",
       "             n_iter_no_change=10, nesterovs_momentum=True, power_t=0.5,\n",
       "             random_state=None, shuffle=True, solver='adam', tol=0.0001,\n",
       "             validation_fraction=0.1, verbose=False, warm_start=False)"
      ]
     },
     "execution_count": 171,
     "metadata": {},
     "output_type": "execute_result"
    }
   ],
   "source": [
    "from sklearn.neural_network import MLPRegressor\n",
    "mlp = MLPRegressor(activation='relu',hidden_layer_sizes=(400,200),max_iter=10000, learning_rate='adaptive', verbose=False)\n",
    "mlp.fit(x_train_scaled,y_train_all)"
   ]
  },
  {
   "cell_type": "code",
   "execution_count": 172,
   "metadata": {},
   "outputs": [
    {
     "data": {
      "text/plain": [
       "-0.24730152674578165"
      ]
     },
     "execution_count": 172,
     "metadata": {},
     "output_type": "execute_result"
    }
   ],
   "source": [
    "mlp.score(x_test_scaled,y_test_all) # r2"
   ]
  },
  {
   "cell_type": "code",
   "execution_count": 173,
   "metadata": {
    "scrolled": true
   },
   "outputs": [
    {
     "data": {
      "image/png": "[encoded data removed]",
      "text/plain": [
       "<Figure size 432x288 with 1 Axes>"
      ]
     },
     "metadata": {
      "needs_background": "light"
     },
     "output_type": "display_data"
    }
   ],
   "source": [
    "predictions = mlp.predict(x_test_scaled)\n",
    "plot_fit(predictions,y_test_all)"
   ]
  }
 ],
 "metadata": {
  "kernelspec": {
   "display_name": "Python [conda env:occupation]",
   "language": "python",
   "name": "conda-env-occupation-py"
  },
  "language_info": {
   "codemirror_mode": {
    "name": "ipython",
    "version": 3
   },
   "file_extension": ".py",
   "mimetype": "text/x-python",
   "name": "python",
   "nbconvert_exporter": "python",
   "pygments_lexer": "ipython3",
   "version": "3.7.4"
  }
 },
 "nbformat": 4,
 "nbformat_minor": 2
}
