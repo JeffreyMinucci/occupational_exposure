{
 "cells": [
  {
   "cell_type": "markdown",
   "metadata": {},
   "source": [
    "# Exploring and unifying NAICS codes in the OSHA data\n",
    "### Author: Jeff Minucci\n",
    "### Date: 9/9/2019"
   ]
  },
  {
   "cell_type": "code",
   "execution_count": 23,
   "metadata": {},
   "outputs": [
    {
     "name": "stdout",
     "output_type": "stream",
     "text": [
      "Using matplotlib backend: Qt5Agg\n"
     ]
    }
   ],
   "source": [
    "%matplotlib\n",
    "import numpy as np\n",
    "import pandas as pd\n",
    "import matplotlib.pyplot as plt\n",
    "import zipfile\n",
    "import datetime\n",
    "from tabulate import tabulate\n",
    "from numba import jit\n",
    "%matplotlib inline"
   ]
  },
  {
   "cell_type": "code",
   "execution_count": 53,
   "metadata": {
    "scrolled": true
   },
   "outputs": [],
   "source": [
    "if not 'data/osha/osha_normalized.csv':\n",
    "    with zipfile.ZipFile('data/osha/osha_normalized.zip','r') as zfile:\n",
    "        zfile.extractall('data/osha')\n",
    "osha = pd.read_csv('data/osha/osha_normalized.csv')\n",
    "osha = osha[osha.columns[1:]]\n",
    "osha['naics_code'] = osha['naics_code'].astype(int, errors = 'ignore')\n",
    "osha['sic_code'] = osha['sic_code'].astype(int, errors = 'ignore')"
   ]
  },
  {
   "cell_type": "markdown",
   "metadata": {},
   "source": [
    "### Examining the NAICS codes reported in the osha data"
   ]
  },
  {
   "cell_type": "markdown",
   "metadata": {},
   "source": [
    "#### How many workplaces have naics codes associated with them?"
   ]
  },
  {
   "cell_type": "code",
   "execution_count": 22,
   "metadata": {
    "scrolled": true
   },
   "outputs": [
    {
     "name": "stdout",
     "output_type": "stream",
     "text": [
      "Percent of workpalces with a naics code reported: 46%\n"
     ]
    }
   ],
   "source": [
    "wp_naics = osha[['establishment_name', 'naics_code']].groupby(['establishment_name']).max()\n",
    "percent_reported = len(wp_naics[wp_naics['naics_code']>1]) / len(wp_naics) * 100\n",
    "print(\"Percent of workplaces with a naics code reported: {0:.0f}%\".format(percent_reported))"
   ]
  },
  {
   "cell_type": "code",
   "execution_count": 56,
   "metadata": {},
   "outputs": [],
   "source": [
    "osha['year'] = pd.DatetimeIndex(osha['date_sampled']).year"
   ]
  },
  {
   "cell_type": "code",
   "execution_count": 49,
   "metadata": {
    "scrolled": true
   },
   "outputs": [
    {
     "name": "stdout",
     "output_type": "stream",
     "text": [
      "Percent of workplaces with naics code reported by year:\n",
      "1984: 0%\n",
      "1985: 0%\n",
      "1986: 0%\n",
      "1987: 0%\n",
      "1988: 0%\n",
      "1989: 0%\n",
      "1990: 0%\n",
      "1991: 1%\n",
      "1992: 0%\n",
      "1993: 0%\n",
      "1994: 0%\n",
      "1995: 0%\n",
      "1996: 0%\n",
      "1997: 1%\n",
      "1998: 0%\n",
      "1999: 1%\n",
      "2000: 1%\n",
      "2001: 2%\n",
      "2002: 22%\n",
      "2003: 98%\n",
      "2004: 100%\n",
      "2005: 100%\n",
      "2006: 100%\n",
      "2007: 100%\n",
      "2008: 100%\n",
      "2009: 100%\n",
      "2010: 100%\n",
      "2011: 100%\n",
      "2012: 100%\n",
      "2013: 100%\n",
      "2014: 100%\n",
      "2015: 100%\n",
      "2016: 90%\n",
      "2017: 100%\n",
      "2018: 100%\n"
     ]
    }
   ],
   "source": [
    "wp_naics_yr = osha[['establishment_name', 'naics_code','year']].groupby(['establishment_name', 'year']).max().reset_index()\n",
    "print(\"Percent of workplaces with naics code reported by year:\")\n",
    "for yr in range(wp_naics_yr['year'].min(), wp_naics_yr['year'].max()+1):\n",
    "    percent_reported = len(wp_naics_yr[(wp_naics_yr['year'] == yr) & (wp_naics_yr['naics_code']>1)])\\\n",
    "    / len(wp_naics_yr[wp_naics_yr['year'] == yr]) * 100\n",
    "    print(\"{0}: {1:.0f}%\".format(yr,percent_reported))"
   ]
  },
  {
   "cell_type": "markdown",
   "metadata": {},
   "source": [
    "#### How many workplaces have the older sic codes?"
   ]
  },
  {
   "cell_type": "code",
   "execution_count": 54,
   "metadata": {},
   "outputs": [
    {
     "name": "stdout",
     "output_type": "stream",
     "text": [
      "Percent of workplaces with an sic code reported: 82%\n"
     ]
    }
   ],
   "source": [
    "wp_sic = osha[['establishment_name', 'sic_code', 'naics_code']].groupby(['establishment_name']).max()\n",
    "percent_reported = len(wp_sic[wp_sic['sic_code']>1]) / len(wp_sic) * 100\n",
    "print(\"Percent of workplaces with an sic code reported: {0:.0f}%\".format(percent_reported))"
   ]
  },
  {
   "cell_type": "code",
   "execution_count": 57,
   "metadata": {
    "scrolled": true
   },
   "outputs": [
    {
     "name": "stdout",
     "output_type": "stream",
     "text": [
      "Percent of workplaces with sic code reported by year:\n",
      "1984: 100%\n",
      "1985: 100%\n",
      "1986: 100%\n",
      "1987: 100%\n",
      "1988: 100%\n",
      "1989: 100%\n",
      "1990: 100%\n",
      "1991: 100%\n",
      "1992: 100%\n",
      "1993: 100%\n",
      "1994: 100%\n",
      "1995: 100%\n",
      "1996: 100%\n",
      "1997: 100%\n",
      "1998: 100%\n",
      "1999: 100%\n",
      "2000: 100%\n",
      "2001: 100%\n",
      "2002: 100%\n",
      "2003: 100%\n",
      "2004: 100%\n",
      "2005: 100%\n",
      "2006: 100%\n",
      "2007: 100%\n",
      "2008: 100%\n",
      "2009: 100%\n",
      "2010: 100%\n",
      "2011: 82%\n",
      "2012: 25%\n",
      "2013: 6%\n",
      "2014: 4%\n",
      "2015: 1%\n",
      "2016: 10%\n",
      "2017: 0%\n",
      "2018: 0%\n"
     ]
    }
   ],
   "source": [
    "wp_sic_yr = osha[['establishment_name', 'naics_code', 'sic_code','year']].groupby(['establishment_name', 'year']).max().reset_index()\n",
    "print(\"Percent of workplaces with sic code reported by year:\")\n",
    "for yr in range(wp_sic_yr['year'].min(), wp_sic_yr['year'].max()+1):\n",
    "    percent_reported = len(wp_sic_yr[(wp_sic_yr['year'] == yr) & (wp_sic_yr['sic_code']>1)])\\\n",
    "    / len(wp_sic_yr[wp_sic_yr['year'] == yr]) * 100\n",
    "    print(\"{0}: {1:.0f}%\".format(yr,percent_reported))"
   ]
  },
  {
   "cell_type": "markdown",
   "metadata": {},
   "source": [
    "#### What format are the naics codes in? \n",
    "Options: 2002, 2007, 2012, 2017 <br>\n",
    "2007 was the last major version, there are only a handful of changes in 2012 and 2017"
   ]
  },
  {
   "cell_type": "code",
   "execution_count": 59,
   "metadata": {
    "scrolled": true
   },
   "outputs": [
    {
     "data": {
      "text/html": [
       "<div>\n",
       "<style scoped>\n",
       "    .dataframe tbody tr th:only-of-type {\n",
       "        vertical-align: middle;\n",
       "    }\n",
       "\n",
       "    .dataframe tbody tr th {\n",
       "        vertical-align: top;\n",
       "    }\n",
       "\n",
       "    .dataframe thead th {\n",
       "        text-align: right;\n",
       "    }\n",
       "</style>\n",
       "<table border=\"1\" class=\"dataframe\">\n",
       "  <thead>\n",
       "    <tr style=\"text-align: right;\">\n",
       "      <th></th>\n",
       "      <th>establishment_name</th>\n",
       "      <th>year</th>\n",
       "      <th>naics_code</th>\n",
       "    </tr>\n",
       "  </thead>\n",
       "  <tbody>\n",
       "    <tr>\n",
       "      <td>11</td>\n",
       "      <td>104 WEST 40TH STREET PARTNERS, LLC</td>\n",
       "      <td>2003</td>\n",
       "      <td>561210.0</td>\n",
       "    </tr>\n",
       "    <tr>\n",
       "      <td>13</td>\n",
       "      <td>110 GULF ASSOCIATES,</td>\n",
       "      <td>2003</td>\n",
       "      <td>531120.0</td>\n",
       "    </tr>\n",
       "    <tr>\n",
       "      <td>30</td>\n",
       "      <td>18TH CENTURY HARDWARE COMPANY, INC.</td>\n",
       "      <td>2003</td>\n",
       "      <td>331528.0</td>\n",
       "    </tr>\n",
       "    <tr>\n",
       "      <td>41</td>\n",
       "      <td>21ST CENTURY PREPARATORY SCHOOL</td>\n",
       "      <td>2003</td>\n",
       "      <td>611110.0</td>\n",
       "    </tr>\n",
       "    <tr>\n",
       "      <td>57</td>\n",
       "      <td>3-D'S BRIDGE PAINTING CORP.</td>\n",
       "      <td>2003</td>\n",
       "      <td>237310.0</td>\n",
       "    </tr>\n",
       "  </tbody>\n",
       "</table>\n",
       "</div>"
      ],
      "text/plain": [
       "                     establishment_name  year  naics_code\n",
       "11   104 WEST 40TH STREET PARTNERS, LLC  2003    561210.0\n",
       "13                 110 GULF ASSOCIATES,  2003    531120.0\n",
       "30  18TH CENTURY HARDWARE COMPANY, INC.  2003    331528.0\n",
       "41      21ST CENTURY PREPARATORY SCHOOL  2003    611110.0\n",
       "57          3-D'S BRIDGE PAINTING CORP.  2003    237310.0"
      ]
     },
     "execution_count": 59,
     "metadata": {},
     "output_type": "execute_result"
    }
   ],
   "source": [
    "wp_naics_yr[wp_naics_yr['year']==2003].head()"
   ]
  },
  {
   "cell_type": "markdown",
   "metadata": {},
   "source": [
    "2003 data appears to be in 2007 or 2002 format. 331528 no longer exists in naics 2012 or 2017"
   ]
  },
  {
   "cell_type": "code",
   "execution_count": 79,
   "metadata": {},
   "outputs": [
    {
     "data": {
      "text/html": [
       "<div>\n",
       "<style scoped>\n",
       "    .dataframe tbody tr th:only-of-type {\n",
       "        vertical-align: middle;\n",
       "    }\n",
       "\n",
       "    .dataframe tbody tr th {\n",
       "        vertical-align: top;\n",
       "    }\n",
       "\n",
       "    .dataframe thead th {\n",
       "        text-align: right;\n",
       "    }\n",
       "</style>\n",
       "<table border=\"1\" class=\"dataframe\">\n",
       "  <thead>\n",
       "    <tr style=\"text-align: right;\">\n",
       "      <th></th>\n",
       "      <th>establishment_name</th>\n",
       "      <th>year</th>\n",
       "      <th>naics_code</th>\n",
       "    </tr>\n",
       "  </thead>\n",
       "  <tbody>\n",
       "  </tbody>\n",
       "</table>\n",
       "</div>"
      ],
      "text/plain": [
       "Empty DataFrame\n",
       "Columns: [establishment_name, year, naics_code]\n",
       "Index: []"
      ]
     },
     "execution_count": 79,
     "metadata": {},
     "output_type": "execute_result"
    }
   ],
   "source": [
    "wp_naics_yr[wp_naics_yr['naics_code']==211130].head()"
   ]
  },
  {
   "cell_type": "markdown",
   "metadata": {},
   "source": [
    "No data appears to be in 2017 naics format"
   ]
  },
  {
   "cell_type": "markdown",
   "metadata": {},
   "source": [
    "#### Convert sic codes to naics codes when naics codes aren't available"
   ]
  },
  {
   "cell_type": "code",
   "execution_count": 82,
   "metadata": {},
   "outputs": [],
   "source": [
    "sic_naics_2002 = pd.read_csv('data/naics/1987_SIC_to_2002_NAICS.csv')"
   ]
  }
 ],
 "metadata": {
  "kernelspec": {
   "display_name": "Python [conda env:occupation]",
   "language": "python",
   "name": "conda-env-occupation-py"
  },
  "language_info": {
   "codemirror_mode": {
    "name": "ipython",
    "version": 3
   },
   "file_extension": ".py",
   "mimetype": "text/x-python",
   "name": "python",
   "nbconvert_exporter": "python",
   "pygments_lexer": "ipython3",
   "version": "3.7.4"
  }
 },
 "nbformat": 4,
 "nbformat_minor": 2
}
