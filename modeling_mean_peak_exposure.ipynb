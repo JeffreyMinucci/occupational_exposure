{
 "cells": [
  {
   "cell_type": "markdown",
   "metadata": {},
   "source": [
    "# Predicting mean concentrations in the workplace using chemical properties\n",
    "#### By: Jeff Minucci"
   ]
  },
  {
   "cell_type": "markdown",
   "metadata": {},
   "source": [
    "### Load required packages"
   ]
  },
  {
   "cell_type": "code",
   "execution_count": 1,
   "metadata": {},
   "outputs": [],
   "source": [
    "import numpy as np\n",
    "import pandas as pd\n",
    "import matplotlib.pyplot as plt\n",
    "import os\n",
    "from sklearn.model_selection import train_test_split\n",
    "from scipy.stats import boxcox\n",
    "%matplotlib inline"
   ]
  },
  {
   "cell_type": "markdown",
   "metadata": {},
   "source": [
    "### Load the dataset of osha mean concentrations detected at work"
   ]
  },
  {
   "cell_type": "code",
   "execution_count": 107,
   "metadata": {},
   "outputs": [],
   "source": [
    "osha = pd.read_csv('data/osha/osha_mean_peak.csv')\n",
    "osha = osha[osha.columns[1:]]\n",
    "osha = osha.drop(columns=['casrn', 'dtxsid', 'inchikey', 'iupac_name'])\n",
    "osha = osha.dropna(axis=0)\n",
    "toxprint_cols = [col for col in osha.columns if ':' in col]\n",
    "osha[toxprint_cols] = osha[toxprint_cols].astype(int)"
   ]
  },
  {
   "cell_type": "markdown",
   "metadata": {},
   "source": [
    "### Look at distribution of mean workplace exposure"
   ]
  },
  {
   "cell_type": "code",
   "execution_count": 80,
   "metadata": {},
   "outputs": [
    {
     "data": {
      "text/plain": [
       "count    7.180000e+02\n",
       "mean     1.921481e+05\n",
       "std      1.449376e+06\n",
       "min      0.000000e+00\n",
       "25%      0.000000e+00\n",
       "50%      3.598186e+00\n",
       "75%      6.963074e+03\n",
       "max      1.954403e+07\n",
       "Name: conc_mgm3, dtype: float64"
      ]
     },
     "execution_count": 80,
     "metadata": {},
     "output_type": "execute_result"
    }
   ],
   "source": [
    "osha['conc_mgm3'].describe()"
   ]
  },
  {
   "cell_type": "code",
   "execution_count": 81,
   "metadata": {},
   "outputs": [
    {
     "data": {
      "text/plain": [
       "(array([707.,   5.,   1.,   0.,   0.,   0.,   0.,   2.,   1.,   2.]),\n",
       " array([       0.        ,  1954402.7198364 ,  3908805.4396728 ,\n",
       "         5863208.1595092 ,  7817610.8793456 ,  9772013.599182  ,\n",
       "        11726416.3190184 , 13680819.03885481, 15635221.75869121,\n",
       "        17589624.47852761, 19544027.19836401]),\n",
       " <a list of 10 Patch objects>)"
      ]
     },
     "execution_count": 81,
     "metadata": {},
     "output_type": "execute_result"
    },
    {
     "data": {
      "image/png": "[encoded data removed]",
      "text/plain": [
       "<Figure size 432x288 with 1 Axes>"
      ]
     },
     "metadata": {
      "needs_background": "light"
     },
     "output_type": "display_data"
    }
   ],
   "source": [
    "plt.hist(osha['conc_mgm3'])"
   ]
  },
  {
   "cell_type": "markdown",
   "metadata": {},
   "source": [
    "The high outliers are up at 10 kg/m3, so they must be errors in the data. Let's drop everything above 10,000 mg/mg3"
   ]
  },
  {
   "cell_type": "code",
   "execution_count": 108,
   "metadata": {},
   "outputs": [
    {
     "data": {
      "text/plain": [
       "(array([475.,  19.,  12.,   8.,  11.,   7.,   6.,  10.,   4.,   6.]),\n",
       " array([   0.        ,  998.74879194, 1997.49758389, 2996.24637583,\n",
       "        3994.99516778, 4993.74395972, 5992.49275167, 6991.24154361,\n",
       "        7989.99033556, 8988.7391275 , 9987.48791945]),\n",
       " <a list of 10 Patch objects>)"
      ]
     },
     "execution_count": 108,
     "metadata": {},
     "output_type": "execute_result"
    },
    {
     "data": {
      "image/png": "[encoded data removed]",
      "text/plain": [
       "<Figure size 432x288 with 1 Axes>"
      ]
     },
     "metadata": {
      "needs_background": "light"
     },
     "output_type": "display_data"
    }
   ],
   "source": [
    "osha = osha.drop(osha[osha['conc_mgm3']>10000].index)\n",
    "plt.hist(osha['conc_mgm3'])"
   ]
  },
  {
   "cell_type": "code",
   "execution_count": 109,
   "metadata": {},
   "outputs": [],
   "source": [
    "# It looks like log transforming our response is a good idea\n",
    "osha['ln_conc_mgm3'] = np.log(osha['conc_mgm3']+0.000001)\n",
    "\n",
    "# Let's also make a dataset without the mean 0 concentration substances\n",
    "osha_nonzero = osha[osha['conc_mgm3']>0]\n"
   ]
  },
  {
   "cell_type": "code",
   "execution_count": 110,
   "metadata": {
    "scrolled": true
   },
   "outputs": [
    {
     "data": {
      "text/plain": [
       "(array([196.,   4.,   2.,   9.,  36.,  85.,  51.,  46.,  46.,  83.]),\n",
       " array([-1.38155106e+01, -1.15130507e+01, -9.21059077e+00, -6.90813088e+00,\n",
       "        -4.60567098e+00, -2.30321109e+00, -7.51194822e-04,  2.30170870e+00,\n",
       "         4.60416859e+00,  6.90662849e+00,  9.20908838e+00]),\n",
       " <a list of 10 Patch objects>)"
      ]
     },
     "execution_count": 110,
     "metadata": {},
     "output_type": "execute_result"
    },
    {
     "data": {
      "image/png": "[encoded data removed]",
      "text/plain": [
       "<Figure size 432x288 with 1 Axes>"
      ]
     },
     "metadata": {
      "needs_background": "light"
     },
     "output_type": "display_data"
    }
   ],
   "source": [
    "plt.hist(osha['ln_conc_mgm3'])"
   ]
  },
  {
   "cell_type": "code",
   "execution_count": 111,
   "metadata": {},
   "outputs": [
    {
     "data": {
      "text/plain": [
       "(array([ 1.,  5.,  3.,  9., 45., 79., 49., 45., 46., 81.]),\n",
       " array([-13.32845515, -11.0747008 ,  -8.82094645,  -6.56719209,\n",
       "         -4.31343774,  -2.05968339,   0.19407097,   2.44782532,\n",
       "          4.70157967,   6.95533403,   9.20908838]),\n",
       " <a list of 10 Patch objects>)"
      ]
     },
     "execution_count": 111,
     "metadata": {},
     "output_type": "execute_result"
    },
    {
     "data": {
      "image/png": "[encoded data removed]",
      "text/plain": [
       "<Figure size 432x288 with 1 Axes>"
      ]
     },
     "metadata": {
      "needs_background": "light"
     },
     "output_type": "display_data"
    }
   ],
   "source": [
    "plt.hist(osha_nonzero['ln_conc_mgm3'])"
   ]
  },
  {
   "cell_type": "markdown",
   "metadata": {},
   "source": [
    "### Let's filter out features that never occur in our chemical dataset "
   ]
  },
  {
   "cell_type": "code",
   "execution_count": 112,
   "metadata": {},
   "outputs": [],
   "source": [
    "from sklearn.feature_selection import VarianceThreshold\n",
    "osha = osha.loc[:, (osha ).any(axis=0)].copy()"
   ]
  },
  {
   "cell_type": "markdown",
   "metadata": {},
   "source": [
    "### Let's split this into a test and training dataset"
   ]
  },
  {
   "cell_type": "code",
   "execution_count": 113,
   "metadata": {},
   "outputs": [],
   "source": [
    "y = osha.ln_conc_mgm3\n",
    "x = osha.drop(['ln_conc_mgm3','conc_mgm3', 'preferred_name'],axis=1)\n",
    "x_train_all,x_test_all,y_train_all,y_test_all=train_test_split(x,y,test_size=0.2, random_state = 234)\n",
    "\n",
    "\n",
    "# a version of the dataset with only non-zero concentration substances\n",
    "y_nz = osha_nonzero.ln_conc_mgm3\n",
    "x_nz = osha_nonzero.drop(['ln_conc_mgm3','conc_mgm3', 'preferred_name'],axis=1)\n",
    "x_train_nz,x_test_nz,y_train_nz,y_test_nz=train_test_split(x_nz,y_nz,test_size=0.2, random_state = 234)\n",
    "\n",
    "# filter out low variance features, but keep full features as x_f for comparison\n",
    "from sklearn.feature_selection import VarianceThreshold\n",
    "var_filter = VarianceThreshold(threshold=0.1)\n",
    "var_filter.fit(x)\n",
    "x_f = x.loc[:,var_filter.get_support()]\n",
    "x_train,x_test,y_train,y_test=train_test_split(x_f,y,test_size=0.2, random_state=234)\n",
    "\n",
    "# same as above but non-zero substances\n",
    "var_filter = VarianceThreshold(threshold=0.1)\n",
    "var_filter.fit(x_nz)\n",
    "x_nzf = x_nz.loc[:,var_filter.get_support()]\n",
    "x_train_nzf,x_test_nzf,y_train_nzf,y_test_nzf=train_test_split(x_nzf,y_nz,test_size=0.2, random_state=234)\n",
    "\n",
    "feature_list = list(x_f.columns)\n",
    "feature_list_all = list(x.columns)\n",
    "feature_list_nz = list(x_nz.columns)\n",
    "feature_list_nzf = list(x_nzf.columns)"
   ]
  },
  {
   "cell_type": "code",
   "execution_count": 114,
   "metadata": {},
   "outputs": [
    {
     "name": "stdout",
     "output_type": "stream",
     "text": [
      "Training Features Shape: (446, 21)\n",
      "Training Labels Shape: (446,)\n",
      "Testing Features Shape: (112, 21)\n",
      "Testing Labels Shape: (112,)\n"
     ]
    }
   ],
   "source": [
    "print('Training Features Shape:', x_train.shape)\n",
    "print('Training Labels Shape:', y_train.shape)\n",
    "print('Testing Features Shape:', x_test.shape)\n",
    "print('Testing Labels Shape:', y_test.shape)"
   ]
  },
  {
   "cell_type": "code",
   "execution_count": 118,
   "metadata": {},
   "outputs": [
    {
     "name": "stdout",
     "output_type": "stream",
     "text": [
      "Non-zero training, features Shape: (290, 742)\n",
      "Non-zero training, reduced features Shape: (290, 24)\n"
     ]
    }
   ],
   "source": [
    "print('Non-zero training, features Shape:', x_train_nz.shape)\n",
    "print('Non-zero training, reduced features Shape:', x_train_nzf.shape)"
   ]
  },
  {
   "cell_type": "markdown",
   "metadata": {},
   "source": [
    "### Let's try a quick and dirty random forest for a baseline"
   ]
  },
  {
   "cell_type": "code",
   "execution_count": 119,
   "metadata": {},
   "outputs": [],
   "source": [
    "from sklearn.ensemble import RandomForestRegressor\n",
    "from sklearn.metrics import r2_score"
   ]
  },
  {
   "cell_type": "markdown",
   "metadata": {},
   "source": [
    "View out-of-bag errors vs number of trees"
   ]
  },
  {
   "cell_type": "code",
   "execution_count": 192,
   "metadata": {},
   "outputs": [],
   "source": [
    "def plot_rf_oob(x_training, y_training, max_estimators, steps=100):\n",
    "    r2 = []\n",
    "    for i in range(0, max_estimators + steps, steps):\n",
    "        if i == 0:\n",
    "            i = 100\n",
    "        rf = RandomForestRegressor(i,random_state=342, oob_score=True)\n",
    "        rf.fit(x_training, y_training);\n",
    "        oob = rf.oob_score_\n",
    "        r2.append((i, oob))\n",
    "    xs, ys = zip(*r2)\n",
    "    plt.plot(xs, ys)"
   ]
  },
  {
   "cell_type": "code",
   "execution_count": 150,
   "metadata": {},
   "outputs": [
    {
     "data": {
      "image/png": "[encoded data removed]",
      "text/plain": [
       "<Figure size 432x288 with 1 Axes>"
      ]
     },
     "metadata": {
      "needs_background": "light"
     },
     "output_type": "display_data"
    }
   ],
   "source": [
    "plot_rf_oob(x_train_all, y_train_all,5000, 500)"
   ]
  },
  {
   "cell_type": "code",
   "execution_count": 129,
   "metadata": {},
   "outputs": [],
   "source": [
    "rf = RandomForestRegressor(1500,random_state=342)\n",
    "rf.fit(x_train_all, y_train_all);"
   ]
  },
  {
   "cell_type": "markdown",
   "metadata": {},
   "source": [
    "View the feature importance"
   ]
  },
  {
   "cell_type": "code",
   "execution_count": 130,
   "metadata": {},
   "outputs": [
    {
     "data": {
      "text/html": [
       "<div>\n",
       "<style scoped>\n",
       "    .dataframe tbody tr th:only-of-type {\n",
       "        vertical-align: middle;\n",
       "    }\n",
       "\n",
       "    .dataframe tbody tr th {\n",
       "        vertical-align: top;\n",
       "    }\n",
       "\n",
       "    .dataframe thead th {\n",
       "        text-align: right;\n",
       "    }\n",
       "</style>\n",
       "<table border=\"1\" class=\"dataframe\">\n",
       "  <thead>\n",
       "    <tr style=\"text-align: right;\">\n",
       "      <th></th>\n",
       "      <th>importance</th>\n",
       "    </tr>\n",
       "  </thead>\n",
       "  <tbody>\n",
       "    <tr>\n",
       "      <td>monoisotopic_mass</td>\n",
       "      <td>0.084041</td>\n",
       "    </tr>\n",
       "    <tr>\n",
       "      <td>melting_point_degc_opera_pred</td>\n",
       "      <td>0.077148</td>\n",
       "    </tr>\n",
       "    <tr>\n",
       "      <td>biodegradation_half_life_days_days_opera_pred</td>\n",
       "      <td>0.065329</td>\n",
       "    </tr>\n",
       "    <tr>\n",
       "      <td>bioconcentration_factor_opera_pred</td>\n",
       "      <td>0.064229</td>\n",
       "    </tr>\n",
       "    <tr>\n",
       "      <td>octanol_air_partition_coeff_logkoa_opera_pred</td>\n",
       "      <td>0.054722</td>\n",
       "    </tr>\n",
       "    <tr>\n",
       "      <td>vapor_pressure_mmhg_opera_pred</td>\n",
       "      <td>0.050597</td>\n",
       "    </tr>\n",
       "    <tr>\n",
       "      <td>opera_km_days_opera_pred</td>\n",
       "      <td>0.049804</td>\n",
       "    </tr>\n",
       "    <tr>\n",
       "      <td>water_solubility_mol/l_opera_pred</td>\n",
       "      <td>0.048404</td>\n",
       "    </tr>\n",
       "    <tr>\n",
       "      <td>boiling_point_degc_opera_pred</td>\n",
       "      <td>0.047732</td>\n",
       "    </tr>\n",
       "    <tr>\n",
       "      <td>soil_adsorption_coefficient_koc_l/kg_opera_pred</td>\n",
       "      <td>0.044537</td>\n",
       "    </tr>\n",
       "    <tr>\n",
       "      <td>octanol_water_partition_logp_opera_pred</td>\n",
       "      <td>0.039892</td>\n",
       "    </tr>\n",
       "    <tr>\n",
       "      <td>bond:no_amino_oxy_generic</td>\n",
       "      <td>0.038376</td>\n",
       "    </tr>\n",
       "    <tr>\n",
       "      <td>chain:alkenelinear_mono-ene_ethylene_generic</td>\n",
       "      <td>0.035391</td>\n",
       "    </tr>\n",
       "    <tr>\n",
       "      <td>henrys_law_atm-m3/mole_opera_pred</td>\n",
       "      <td>0.034789</td>\n",
       "    </tr>\n",
       "    <tr>\n",
       "      <td>ring:hetero_[6]_z_generic</td>\n",
       "      <td>0.011512</td>\n",
       "    </tr>\n",
       "    <tr>\n",
       "      <td>bond:c=o_aldehyde_alkyl</td>\n",
       "      <td>0.010901</td>\n",
       "    </tr>\n",
       "    <tr>\n",
       "      <td>chain:aromaticalkane_ph-c1_acyclic_connect_h_gt_1</td>\n",
       "      <td>0.009375</td>\n",
       "    </tr>\n",
       "    <tr>\n",
       "      <td>ring:aromatic_phenyl</td>\n",
       "      <td>0.008833</td>\n",
       "    </tr>\n",
       "    <tr>\n",
       "      <td>bond:coh_alcohol_aliphatic_generic</td>\n",
       "      <td>0.006855</td>\n",
       "    </tr>\n",
       "    <tr>\n",
       "      <td>ring:aromatic_benzene</td>\n",
       "      <td>0.006645</td>\n",
       "    </tr>\n",
       "  </tbody>\n",
       "</table>\n",
       "</div>"
      ],
      "text/plain": [
       "                                                   importance\n",
       "monoisotopic_mass                                    0.084041\n",
       "melting_point_degc_opera_pred                        0.077148\n",
       "biodegradation_half_life_days_days_opera_pred        0.065329\n",
       "bioconcentration_factor_opera_pred                   0.064229\n",
       "octanol_air_partition_coeff_logkoa_opera_pred        0.054722\n",
       "vapor_pressure_mmhg_opera_pred                       0.050597\n",
       "opera_km_days_opera_pred                             0.049804\n",
       "water_solubility_mol/l_opera_pred                    0.048404\n",
       "boiling_point_degc_opera_pred                        0.047732\n",
       "soil_adsorption_coefficient_koc_l/kg_opera_pred      0.044537\n",
       "octanol_water_partition_logp_opera_pred              0.039892\n",
       "bond:no_amino_oxy_generic                            0.038376\n",
       "chain:alkenelinear_mono-ene_ethylene_generic         0.035391\n",
       "henrys_law_atm-m3/mole_opera_pred                    0.034789\n",
       "ring:hetero_[6]_z_generic                            0.011512\n",
       "bond:c=o_aldehyde_alkyl                              0.010901\n",
       "chain:aromaticalkane_ph-c1_acyclic_connect_h_gt_1    0.009375\n",
       "ring:aromatic_phenyl                                 0.008833\n",
       "bond:coh_alcohol_aliphatic_generic                   0.006855\n",
       "ring:aromatic_benzene                                0.006645"
      ]
     },
     "execution_count": 130,
     "metadata": {},
     "output_type": "execute_result"
    }
   ],
   "source": [
    "feature_importances = pd.DataFrame(rf.feature_importances_,\n",
    "                                   index = feature_list,\n",
    "                                    columns=['importance']).sort_values('importance',ascending=False)\n",
    "feature_importances.head(20)"
   ]
  },
  {
   "cell_type": "code",
   "execution_count": 153,
   "metadata": {},
   "outputs": [
    {
     "name": "stdout",
     "output_type": "stream",
     "text": [
      "Mean Absolute Error: 3.93 ln mg/m3.\n",
      "R2: 0.164825905364001\n"
     ]
    }
   ],
   "source": [
    "# Use the forest's predict method on the test data\n",
    "predictions = rf.predict(x_test_all)# Calculate the absolute errors\n",
    "errors = abs(predictions - y_test_all)# Print out the mean absolute error (mae)\n",
    "print('Mean Absolute Error:', round(np.mean(errors), 2), 'ln mg/m3.')\n",
    "print('R2:', r2_score(y_test_all,predictions))"
   ]
  },
  {
   "cell_type": "code",
   "execution_count": 132,
   "metadata": {},
   "outputs": [],
   "source": [
    "def plot_fit(predicted, y):\n",
    "    fig, ax = plt.subplots()\n",
    "    ax.scatter(y, predicted)\n",
    "    ax.plot([y.min(), y.max()], [y.min(), y.max()], 'k--', lw=4)\n",
    "    ax.set_xlabel('Measured ln mg/m3')\n",
    "    ax.set_ylabel('Predicted ln mg/m3')\n",
    "    plt.show()"
   ]
  },
  {
   "cell_type": "code",
   "execution_count": 154,
   "metadata": {},
   "outputs": [
    {
     "data": {
      "image/png": "[encoded data removed]",
      "text/plain": [
       "<Figure size 432x288 with 1 Axes>"
      ]
     },
     "metadata": {
      "needs_background": "light"
     },
     "output_type": "display_data"
    }
   ],
   "source": [
    "plot_fit(predictions, y_test_all)"
   ]
  },
  {
   "cell_type": "markdown",
   "metadata": {},
   "source": [
    "### Let's look at using lasso regression"
   ]
  },
  {
   "cell_type": "code",
   "execution_count": 163,
   "metadata": {},
   "outputs": [],
   "source": [
    "from sklearn.linear_model import LassoCV\n",
    "from sklearn.linear_model import Lasso\n",
    "from sklearn.model_selection import KFold\n",
    "from sklearn.model_selection import GridSearchCV"
   ]
  },
  {
   "cell_type": "code",
   "execution_count": 155,
   "metadata": {},
   "outputs": [
    {
     "name": "stderr",
     "output_type": "stream",
     "text": [
      "/home/jminucci/anaconda3/envs/occupation/lib/python3.7/site-packages/sklearn/model_selection/_search.py:814: DeprecationWarning: The default of the `iid` parameter will change from True to False in version 0.22 and will be removed in 0.24. This will change numeric results when test-set sizes are unequal.\n",
      "  DeprecationWarning)\n"
     ]
    },
    {
     "data": {
      "text/plain": [
       "(0.0001, 10000000000.0)"
      ]
     },
     "execution_count": 155,
     "metadata": {},
     "output_type": "execute_result"
    },
    {
     "data": {
      "image/png": "[encoded data removed]",
      "text/plain": [
       "<Figure size 576x432 with 1 Axes>"
      ]
     },
     "metadata": {
      "needs_background": "light"
     },
     "output_type": "display_data"
    }
   ],
   "source": [
    "lasso = Lasso(random_state=0, max_iter=100000)\n",
    "alphas = np.logspace(-4, 10, 200)\n",
    "\n",
    "tuned_parameters = [{'alpha': alphas}]\n",
    "n_folds = 3\n",
    "\n",
    "clf = GridSearchCV(lasso, tuned_parameters, cv=n_folds, refit=False, scoring='r2')\n",
    "clf.fit(x_train, y_train)\n",
    "scores = clf.cv_results_['mean_test_score']\n",
    "scores_std = clf.cv_results_['std_test_score']\n",
    "plt.figure().set_size_inches(8, 6)\n",
    "plt.semilogx(alphas, scores)\n",
    "\n",
    "\n",
    "# plot error lines showing +/- std. errors of the scores\n",
    "std_error = scores_std / np.sqrt(n_folds)\n",
    "\n",
    "plt.semilogx(alphas, scores + std_error, 'b--')\n",
    "plt.semilogx(alphas, scores - std_error, 'b--')\n",
    "\n",
    "# alpha=0.2 controls the translucency of the fill color\n",
    "plt.fill_between(alphas, scores + std_error, scores - std_error, alpha=0.2)\n",
    "\n",
    "plt.ylabel('CV score +/- std error')\n",
    "plt.xlabel('alpha')\n",
    "plt.axhline(np.max(scores), linestyle='--', color='.5')\n",
    "plt.xlim([alphas[0], alphas[-1]])"
   ]
  },
  {
   "cell_type": "code",
   "execution_count": 156,
   "metadata": {
    "scrolled": true
   },
   "outputs": [
    {
     "data": {
      "text/plain": [
       "{'alpha': 8.406652885618316}"
      ]
     },
     "execution_count": 156,
     "metadata": {},
     "output_type": "execute_result"
    }
   ],
   "source": [
    "clf.best_params_"
   ]
  },
  {
   "cell_type": "code",
   "execution_count": 176,
   "metadata": {
    "scrolled": true
   },
   "outputs": [
    {
     "data": {
      "text/plain": [
       "0.09292582112773085"
      ]
     },
     "execution_count": 176,
     "metadata": {},
     "output_type": "execute_result"
    }
   ],
   "source": [
    "lassocv = LassoCV(cv=5,random_state=9).fit(x_train, y_train)\n",
    "lassocv.score(x_train, y_train)"
   ]
  },
  {
   "cell_type": "code",
   "execution_count": 184,
   "metadata": {},
   "outputs": [
    {
     "data": {
      "text/plain": [
       "-0.9355162253312517"
      ]
     },
     "execution_count": 184,
     "metadata": {},
     "output_type": "execute_result"
    }
   ],
   "source": [
    "lassocv.score(x_test, y_test)"
   ]
  },
  {
   "cell_type": "code",
   "execution_count": 172,
   "metadata": {},
   "outputs": [
    {
     "data": {
      "text/plain": [
       "19.094514412773115"
      ]
     },
     "execution_count": 172,
     "metadata": {},
     "output_type": "execute_result"
    }
   ],
   "source": [
    "lassocv.alpha_"
   ]
  },
  {
   "cell_type": "code",
   "execution_count": 179,
   "metadata": {},
   "outputs": [
    {
     "data": {
      "text/plain": [
       "[('bioconcentration_factor_opera_pred', 0.0005336234652479647),\n",
       " ('boiling_point_degc_opera_pred', -0.0007357418142726295),\n",
       " ('melting_point_degc_opera_pred', -0.0010831582084453854),\n",
       " ('monoisotopic_mass', -0.008200273637573512),\n",
       " ('soil_adsorption_coefficient_koc_l/kg_opera_pred', 8.481696414510131e-06),\n",
       " ('vapor_pressure_mmhg_opera_pred', -0.0002606083038472521)]"
      ]
     },
     "execution_count": 179,
     "metadata": {},
     "output_type": "execute_result"
    }
   ],
   "source": [
    "[(feature_list[i], coef) for i, coef in enumerate(lassocv.coef_) if (~np.isclose(coef,0))]"
   ]
  },
  {
   "cell_type": "code",
   "execution_count": 180,
   "metadata": {},
   "outputs": [
    {
     "data": {
      "image/png": "[encoded data removed]",
      "text/plain": [
       "<Figure size 432x288 with 1 Axes>"
      ]
     },
     "metadata": {
      "needs_background": "light"
     },
     "output_type": "display_data"
    }
   ],
   "source": [
    "predictions = lassocv.predict(x_test)\n",
    "plot_fit(predictions, y_test)"
   ]
  },
  {
   "cell_type": "markdown",
   "metadata": {},
   "source": [
    "### Compare to a lasso model on all features"
   ]
  },
  {
   "cell_type": "code",
   "execution_count": 181,
   "metadata": {},
   "outputs": [
    {
     "data": {
      "text/plain": [
       "0.09292582112773085"
      ]
     },
     "execution_count": 181,
     "metadata": {},
     "output_type": "execute_result"
    }
   ],
   "source": [
    "lassocv2 = LassoCV(cv=5,random_state=0).fit(x_train_all, y_train_all)\n",
    "lassocv2.score(x_train_all, y_train_all)"
   ]
  },
  {
   "cell_type": "code",
   "execution_count": 182,
   "metadata": {},
   "outputs": [
    {
     "data": {
      "text/plain": [
       "-0.9355162253312517"
      ]
     },
     "execution_count": 182,
     "metadata": {},
     "output_type": "execute_result"
    }
   ],
   "source": [
    "lassocv2.score(x_test_all, y_test_all)"
   ]
  },
  {
   "cell_type": "markdown",
   "metadata": {},
   "source": [
    "#### When we use all features, we get the same result from the lasso regression"
   ]
  },
  {
   "cell_type": "markdown",
   "metadata": {},
   "source": [
    "## What if we model only chemicals that had an average peak conc above 0?"
   ]
  },
  {
   "cell_type": "markdown",
   "metadata": {},
   "source": [
    "### Trying a random forest again"
   ]
  },
  {
   "cell_type": "code",
   "execution_count": 34,
   "metadata": {},
   "outputs": [],
   "source": [
    "#rf = RandomForestRegressor(2000,random_state=342)\n",
    "#rf.fit(x_train_nz, y_train_nz);"
   ]
  },
  {
   "cell_type": "code",
   "execution_count": 193,
   "metadata": {},
   "outputs": [
    {
     "data": {
      "image/png": "[encoded data removed]",
      "text/plain": [
       "<Figure size 432x288 with 1 Axes>"
      ]
     },
     "metadata": {
      "needs_background": "light"
     },
     "output_type": "display_data"
    }
   ],
   "source": [
    "plot_rf_oob(x_train_nz, y_train_nz, 5000,1000)"
   ]
  },
  {
   "cell_type": "code",
   "execution_count": 198,
   "metadata": {},
   "outputs": [
    {
     "data": {
      "text/plain": [
       "GridSearchCV(cv=5, error_score='raise-deprecating',\n",
       "             estimator=RandomForestRegressor(bootstrap=True, criterion='mse',\n",
       "                                             max_depth=None,\n",
       "                                             max_features='auto',\n",
       "                                             max_leaf_nodes=None,\n",
       "                                             min_impurity_decrease=0.0,\n",
       "                                             min_impurity_split=None,\n",
       "                                             min_samples_leaf=1,\n",
       "                                             min_samples_split=2,\n",
       "                                             min_weight_fraction_leaf=0.0,\n",
       "                                             n_estimators='warn', n_jobs=None,\n",
       "                                             oob_score=False, random_state=None,\n",
       "                                             verbose=0, warm_start=False),\n",
       "             iid='warn', n_jobs=20,\n",
       "             param_grid={'n_estimators': [1000, 2000, 2500, 3500, 5000]},\n",
       "             pre_dispatch='2*n_jobs', refit=True, return_train_score=False,\n",
       "             scoring=None, verbose=0)"
      ]
     },
     "execution_count": 198,
     "metadata": {},
     "output_type": "execute_result"
    }
   ],
   "source": [
    "param_grid = {'n_estimators': [1000, 2000, 2500, 3500, 5000]}\n",
    "grid_rf = GridSearchCV(RandomForestRegressor(), param_grid, cv=5, n_jobs=20)\n",
    "grid_rf.fit(x_train_nz, y_train_nz)"
   ]
  },
  {
   "cell_type": "code",
   "execution_count": 199,
   "metadata": {},
   "outputs": [
    {
     "data": {
      "text/plain": [
       "{'n_estimators': 5000}"
      ]
     },
     "execution_count": 199,
     "metadata": {},
     "output_type": "execute_result"
    }
   ],
   "source": [
    "grid_rf.best_params_"
   ]
  },
  {
   "cell_type": "code",
   "execution_count": 200,
   "metadata": {},
   "outputs": [
    {
     "name": "stdout",
     "output_type": "stream",
     "text": [
      "Mean Absolute Error: 3.95 ln mg/m3.\n",
      "R2: 0.15778690927757322\n"
     ]
    }
   ],
   "source": [
    "best_rf = grid_rf.best_estimator_\n",
    "predictions = best_rf.predict(x_test_nz)# Calculate the absolute errors\n",
    "errors = abs(predictions - y_test_nz)# Print out the mean absolute error (mae)\n",
    "print('Mean Absolute Error:', round(np.mean(errors), 2), 'ln mg/m3.')\n",
    "print('R2:', r2_score(y_test_nz,predictions))"
   ]
  },
  {
   "cell_type": "code",
   "execution_count": 201,
   "metadata": {},
   "outputs": [
    {
     "data": {
      "image/png": "[encoded data removed]",
      "text/plain": [
       "<Figure size 432x288 with 1 Axes>"
      ]
     },
     "metadata": {
      "needs_background": "light"
     },
     "output_type": "display_data"
    }
   ],
   "source": [
    "plot_fit(predictions, y_test_nz)"
   ]
  },
  {
   "cell_type": "markdown",
   "metadata": {},
   "source": [
    "### Let's try a multi-layer perceptron for fun"
   ]
  },
  {
   "cell_type": "code",
   "execution_count": 202,
   "metadata": {},
   "outputs": [],
   "source": [
    "from sklearn.preprocessing import StandardScaler\n",
    "\n",
    "scaler = StandardScaler()\n",
    "scaler.fit(x_train_nz)\n",
    "StandardScaler(copy=True, with_mean=True, with_std=True)\n",
    "x_train_scaled = scaler.transform(x_train_nz)\n",
    "x_test_scaled = scaler.transform(x_test_nz)"
   ]
  },
  {
   "cell_type": "code",
   "execution_count": 227,
   "metadata": {},
   "outputs": [
    {
     "name": "stdout",
     "output_type": "stream",
     "text": [
      "Iteration 1, loss = 11.49529221\n",
      "Iteration 2, loss = 9.70399061\n",
      "Iteration 3, loss = 8.04189369\n",
      "Iteration 4, loss = 6.89418574\n",
      "Iteration 5, loss = 5.84596726\n",
      "Iteration 6, loss = 4.92680644\n",
      "Iteration 7, loss = 4.53116226\n",
      "Iteration 8, loss = 3.84804432\n",
      "Iteration 9, loss = 3.39717259\n",
      "Iteration 10, loss = 2.89035424\n",
      "Iteration 11, loss = 2.61376590\n",
      "Iteration 12, loss = 2.32773719\n",
      "Iteration 13, loss = 2.05038954\n",
      "Iteration 14, loss = 1.85778127\n",
      "Iteration 15, loss = 1.66649714\n",
      "Iteration 16, loss = 1.50545996\n",
      "Iteration 17, loss = 1.32362834\n",
      "Iteration 18, loss = 1.28114509\n",
      "Iteration 19, loss = 1.13121418\n",
      "Iteration 20, loss = 1.08463941\n",
      "Iteration 21, loss = 0.95054987\n",
      "Iteration 22, loss = 0.86259091\n",
      "Iteration 23, loss = 0.81424779\n",
      "Iteration 24, loss = 0.74628202\n",
      "Iteration 25, loss = 0.73357460\n",
      "Iteration 26, loss = 0.66346857\n",
      "Iteration 27, loss = 0.62151378\n",
      "Iteration 28, loss = 0.60012724\n",
      "Iteration 29, loss = 0.54942719\n",
      "Iteration 30, loss = 0.54043668\n",
      "Iteration 31, loss = 0.55264234\n",
      "Iteration 32, loss = 0.51099069\n",
      "Iteration 33, loss = 0.48464948\n",
      "Iteration 34, loss = 0.48176719\n",
      "Iteration 35, loss = 0.46587761\n",
      "Iteration 36, loss = 0.45581138\n",
      "Iteration 37, loss = 0.45088871\n",
      "Iteration 38, loss = 0.42474389\n",
      "Iteration 39, loss = 0.41299573\n",
      "Iteration 40, loss = 0.41712825\n",
      "Iteration 41, loss = 0.38139796\n",
      "Iteration 42, loss = 0.41872481\n",
      "Iteration 43, loss = 0.39939777\n",
      "Iteration 44, loss = 0.36921491\n",
      "Iteration 45, loss = 0.36996014\n",
      "Iteration 46, loss = 0.35068644\n",
      "Iteration 47, loss = 0.37445412\n",
      "Iteration 48, loss = 0.35342641\n",
      "Iteration 49, loss = 0.36316128\n",
      "Iteration 50, loss = 0.34507718\n",
      "Iteration 51, loss = 0.37493346\n",
      "Iteration 52, loss = 0.34662557\n",
      "Iteration 53, loss = 0.34539213\n",
      "Iteration 54, loss = 0.34116792\n",
      "Iteration 55, loss = 0.37273752\n",
      "Iteration 56, loss = 0.35395453\n",
      "Iteration 57, loss = 0.38568192\n",
      "Iteration 58, loss = 0.35072353\n",
      "Iteration 59, loss = 0.36245126\n",
      "Iteration 60, loss = 0.32376642\n",
      "Iteration 61, loss = 0.31297193\n",
      "Iteration 62, loss = 0.31381862\n",
      "Iteration 63, loss = 0.32079205\n",
      "Iteration 64, loss = 0.31967564\n",
      "Iteration 65, loss = 0.32346844\n",
      "Iteration 66, loss = 0.28947170\n",
      "Iteration 67, loss = 0.31263700\n",
      "Iteration 68, loss = 0.31724892\n",
      "Iteration 69, loss = 0.31092864\n",
      "Iteration 70, loss = 0.32403947\n",
      "Iteration 71, loss = 0.32984690\n",
      "Iteration 72, loss = 0.31012059\n",
      "Iteration 73, loss = 0.33541784\n",
      "Iteration 74, loss = 0.29877469\n",
      "Iteration 75, loss = 0.29023916\n",
      "Iteration 76, loss = 0.29718767\n",
      "Iteration 77, loss = 0.28831502\n",
      "Iteration 78, loss = 0.27805297\n",
      "Iteration 79, loss = 0.28722407\n",
      "Iteration 80, loss = 0.28004112\n",
      "Iteration 81, loss = 0.28135459\n",
      "Iteration 82, loss = 0.27833130\n",
      "Iteration 83, loss = 0.27007346\n",
      "Iteration 84, loss = 0.26668864\n",
      "Iteration 85, loss = 0.27640787\n",
      "Iteration 86, loss = 0.26026143\n",
      "Iteration 87, loss = 0.25811220\n",
      "Iteration 88, loss = 0.26431467\n",
      "Iteration 89, loss = 0.27009353\n",
      "Iteration 90, loss = 0.26989960\n",
      "Iteration 91, loss = 0.25482515\n",
      "Iteration 92, loss = 0.27496452\n",
      "Iteration 93, loss = 0.26559546\n",
      "Iteration 94, loss = 0.26383333\n",
      "Iteration 95, loss = 0.26040065\n",
      "Iteration 96, loss = 0.25277634\n",
      "Iteration 97, loss = 0.25733926\n",
      "Iteration 98, loss = 0.25255311\n",
      "Iteration 99, loss = 0.25870200\n",
      "Iteration 100, loss = 0.24744657\n",
      "Iteration 101, loss = 0.25162234\n",
      "Iteration 102, loss = 0.26106141\n",
      "Iteration 103, loss = 0.25694745\n",
      "Iteration 104, loss = 0.24748692\n",
      "Iteration 105, loss = 0.26722010\n",
      "Iteration 106, loss = 0.26901076\n",
      "Iteration 107, loss = 0.25631714\n",
      "Iteration 108, loss = 0.24921588\n",
      "Iteration 109, loss = 0.27499596\n",
      "Iteration 110, loss = 0.28185080\n",
      "Iteration 111, loss = 0.25823809\n",
      "Training loss did not improve more than tol=0.000100 for 10 consecutive epochs. Stopping.\n"
     ]
    },
    {
     "data": {
      "text/plain": [
       "MLPRegressor(activation='relu', alpha=0.0001, batch_size='auto', beta_1=0.9,\n",
       "             beta_2=0.999, early_stopping=False, epsilon=1e-08,\n",
       "             hidden_layer_sizes=(400, 400, 200), learning_rate='adaptive',\n",
       "             learning_rate_init=0.001, max_iter=10000, momentum=0.9,\n",
       "             n_iter_no_change=10, nesterovs_momentum=True, power_t=0.5,\n",
       "             random_state=None, shuffle=True, solver='adam', tol=0.0001,\n",
       "             validation_fraction=0.1, verbose=True, warm_start=False)"
      ]
     },
     "execution_count": 227,
     "metadata": {},
     "output_type": "execute_result"
    }
   ],
   "source": [
    "from sklearn.neural_network import MLPRegressor\n",
    "mlp = MLPRegressor(activation='relu',hidden_layer_sizes=(400, 400, 200),max_iter=10000, learning_rate='adaptive', verbose=True)\n",
    "mlp.fit(x_train_scaled,y_train_nz)"
   ]
  },
  {
   "cell_type": "code",
   "execution_count": 228,
   "metadata": {},
   "outputs": [
    {
     "data": {
      "text/plain": [
       "0.0947271796279834"
      ]
     },
     "execution_count": 228,
     "metadata": {},
     "output_type": "execute_result"
    }
   ],
   "source": [
    "mlp.score(x_test_scaled,y_test_nz) # r2"
   ]
  },
  {
   "cell_type": "code",
   "execution_count": 229,
   "metadata": {},
   "outputs": [
    {
     "data": {
      "image/png": "[encoded data removed]",
      "text/plain": [
       "<Figure size 432x288 with 1 Axes>"
      ]
     },
     "metadata": {
      "needs_background": "light"
     },
     "output_type": "display_data"
    }
   ],
   "source": [
    "predictions = mlp.predict(x_test_scaled)\n",
    "plot_fit(predictions,y_test_nz)"
   ]
  }
 ],
 "metadata": {
  "kernelspec": {
   "display_name": "Python [conda env:occupation]",
   "language": "python",
   "name": "conda-env-occupation-py"
  },
  "language_info": {
   "codemirror_mode": {
    "name": "ipython",
    "version": 3
   },
   "file_extension": ".py",
   "mimetype": "text/x-python",
   "name": "python",
   "nbconvert_exporter": "python",
   "pygments_lexer": "ipython3",
   "version": "3.7.4"
  }
 },
 "nbformat": 4,
 "nbformat_minor": 2
}
